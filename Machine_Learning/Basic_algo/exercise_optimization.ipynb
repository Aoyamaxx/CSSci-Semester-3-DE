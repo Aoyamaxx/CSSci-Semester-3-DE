{
 "cells": [
  {
   "cell_type": "code",
   "execution_count": null,
   "id": "3e338525",
   "metadata": {},
   "outputs": [],
   "source": [
    "import numpy as np\n",
    "from scipy.optimize import approx_fprime"
   ]
  },
  {
   "cell_type": "code",
   "execution_count": 114,
   "id": "e0f14250-f6fd-4a4c-8943-1f0bf1ccb962",
   "metadata": {},
   "outputs": [],
   "source": [
    "# Define the Beale function\n",
    "def beale_function(point):\n",
    "    x, y = point\n",
    "    return (1.5 - x + x * y)**2 + (2.25 - x + x * y**2)**2 + (2.625 - x + x * y**3)**2\n",
    "\n",
    "# Define the derivative of the Beale function with respect to x\n",
    "def beale_derivative_x(x, y):\n",
    "    df_dx = 2 * (1.5 - x + x * y) * (-1 + y) + \\\n",
    "            2 * (2.25 - x + x * y**2) * (-1 + y**2) + \\\n",
    "            2 * (2.625 - x + x * y**3) * (-1 + y**3)\n",
    "    return df_dx\n",
    "\n",
    "# Define the derivative of the Beale function with respect to y\n",
    "def beale_derivative_y(x, y):\n",
    "    df_dy = 2 * (1.5 - x + x * y) * x + \\\n",
    "            2 * (2.25 - x + x * y**2) * 2 * x * y + \\\n",
    "            2 * (2.625 - x + x * y**3) * 3 * x * y**2\n",
    "    return df_dy\n",
    "\n",
    "# Gradient as a single function\n",
    "def beale_gradient(point):\n",
    "    x, y = point\n",
    "    return np.array([beale_derivative_x(x, y), beale_derivative_y(x, y)])\n"
   ]
  },
  {
   "cell_type": "code",
   "execution_count": null,
   "id": "91669f9a-a0db-4c2c-b84e-d32970280d67",
   "metadata": {},
   "outputs": [],
   "source": [
    "# Define the Goldstein-Price function\n",
    "def goldstein_price_function(point):\n",
    "    x, y = point\n",
    "    return (1 + (x + y + 1)**2 * (19 - 14*x + 3*x**2 - 14*y + 6*x*y + 3*y**2)) * \\\n",
    "           (30 + (2*x - 3*y)**2 * (18 - 32*x + 12*x**2 + 48*y - 36*x*y + 27*y**2))\n",
    "\n",
    "def goldstein_price_gradient(point):\n",
    "    epsilon = np.sqrt(np.finfo(float).eps)  # Smallest difference to compute the gradient\n",
    "    gradient = approx_fprime(point, goldstein_price_function, epsilon)\n",
    "    return gradient"
   ]
  },
  {
   "cell_type": "code",
   "execution_count": null,
   "id": "db4a279f-799f-4d1a-945c-957d57e28abc",
   "metadata": {},
   "outputs": [],
   "source": [
    "def more_complicated_function(coords):\n",
    "    x, y = coords\n",
    "    return (x**4 - 4*x**3 + 4*x**2*y - 2*x**2 + 4*x*y**2 - 8*x*y + 4*y**2 + \n",
    "            np.exp(x)*np.sin(4*np.pi*y) + np.exp(y)*np.sin(4*np.pi*x))\n",
    "\n",
    "def more_complicated_gradient(coords):\n",
    "    x, y = coords\n",
    "    df_dx = (4*x**3 - 12*x**2 + 8*x*y - 4*x + 4*y**2 - 8*y + \n",
    "             np.exp(x)*np.sin(4*np.pi*y) + 4*np.pi*np.exp(y)*np.cos(4*np.pi*x))\n",
    "    df_dy = (4*x**2 + 8*x*y - 8*x + 4*y + 4*np.pi*np.exp(x)*np.cos(4*np.pi*y) +\n",
    "             np.exp(y)*np.sin(4*np.pi*x))\n",
    "    return np.array([df_dx, df_dy])"
   ]
  }
 ],
 "metadata": {
  "kernelspec": {
   "display_name": "my_homebrew_kernel",
   "language": "python",
   "name": "my_homebrew_kernel"
  },
  "language_info": {
   "codemirror_mode": {
    "name": "ipython",
    "version": 3
   },
   "file_extension": ".py",
   "mimetype": "text/x-python",
   "name": "python",
   "nbconvert_exporter": "python",
   "pygments_lexer": "ipython3",
   "version": "3.11.5"
  }
 },
 "nbformat": 4,
 "nbformat_minor": 5
}
