{
 "cells": [
  {
   "cell_type": "markdown",
   "id": "1692726c-dd49-44b0-b5d8-a497bf188524",
   "metadata": {},
   "source": [
    "# Social network 3: Complex and dynamical networks using Python and networkx"
   ]
  },
  {
   "cell_type": "markdown",
   "id": "ec633aa5-717b-430b-8c82-f1f7e0ca0977",
   "metadata": {},
   "source": [
    "In this workshop, we will focus on generating networks through code, and seeing some of the interesting and at times unexpected dynamics of networks.\n",
    "\n",
    "We will learn how to generate network using algorithms, and how the algorithms shape the properties of these networks\n"
   ]
  },
  {
   "cell_type": "markdown",
   "id": "d8b43902-214b-4617-a85d-11864327aaa2",
   "metadata": {},
   "source": [
    "# 1. Small world simulation"
   ]
  },
  {
   "cell_type": "markdown",
   "id": "1f229e49-38c2-4dea-b58b-35652f038466",
   "metadata": {},
   "source": [
    "In this exercise, we will start with a geographical network, in which each node is connected to their four closest neighbhors, in a big circle.\n",
    "\n",
    "We will then see how the average shortest path depends on the number of edges we randomize in this network.\n",
    "\n",
    "The aim of this exercise is to see how nearly universal the small-world phenomenon is. "
   ]
  },
  {
   "cell_type": "code",
   "execution_count": 98,
   "id": "534d419c-506c-4728-bb14-a8c2c2c2a309",
   "metadata": {},
   "outputs": [],
   "source": [
    "# Circle network\n",
    "import networkx as nx\n",
    "from matplotlib import pyplot as plt\n",
    "\n",
    "def create_circle_network(num_nodes=1000):\n",
    "    # This is code creates a simple circular network, were each node is connected to their neighbors \n",
    "    # Create an empty graph\n",
    "    G = nx.Graph()\n",
    "    \n",
    "    # Add nodes and edges to create a circular network\n",
    "    for i in range(num_nodes):\n",
    "        G.add_node(i)\n",
    "        G.add_edge(i, (i + 1) % num_nodes)  # Connect each node to its neighbor, using modulo for circular connection\n",
    "        G.add_edge(i, (i + 2) % num_nodes)  # Connect each node to its second neighbor, using modulo for circular connection\n",
    "    \n",
    "    # Draw the network\n",
    "    nx.draw_circular(G, with_labels=True, node_color='lightblue', node_size=20, font_size=5)\n",
    "    plt.title(f\"Random Network with {num_nodes} Nodes\")\n",
    "    plt.show()\n",
    "    return G"
   ]
  },
  {
   "cell_type": "code",
   "execution_count": 332,
   "id": "d3a8a1dc-3e28-42f0-b383-0d1989fd5368",
   "metadata": {},
   "outputs": [],
   "source": [
    "G = create_circle_network()\n",
    "print(f'The average shortest path between two nodes in this network is {nx.average_shortest_path_length(G)}')"
   ]
  },
  {
   "cell_type": "markdown",
   "id": "471b1694-0e91-47d3-92c6-415b076783c3",
   "metadata": {},
   "source": [
    "### Question:\n",
    "Your task is to answer: *What fraction of edges would you need to replace with random edges for the average shortest path to drop to 1/10 of this value* (i.e. 12.5)? Write code to replace the edges one by one by a random edge. For each edge removed, measure the new average shortest path. Plot the average shortest path as a function of the fraction of edges that are randomized. How do you interpret your finding? \n"
   ]
  },
  {
   "cell_type": "markdown",
   "id": "e5e9104a-032b-4e61-94d5-f0de971348a3",
   "metadata": {},
   "source": [
    "# 2. Modeling how we make friends"
   ]
  },
  {
   "cell_type": "markdown",
   "id": "b57686b1-acfa-4013-b8ba-0c4b8274754c",
   "metadata": {},
   "source": [
    "Let's think about different models for how we make friends, and examine the type of social network that this results in.\n",
    "\n",
    "### Model 1: We meet random people\n",
    "One is just by meeting people by random. This would suggest just adding edges between two randomly selected nodes until we have as many edges that we want.\n",
    "\n",
    "This is called an Erdos-Renyi network.\n",
    "\n",
    "#### Your task: \n",
    "1. Write code for a network in which the nodes are connected to other nodes by random.\n",
    "2. Plot the degree distribution. You have come across this distribution before. What type of distribution is it? "
   ]
  },
  {
   "cell_type": "code",
   "execution_count": 327,
   "id": "9f9ae9ff-3027-47be-9e0a-8f32f05e53fc",
   "metadata": {},
   "outputs": [],
   "source": [
    "# Random network\n",
    "import networkx as nx\n",
    "from matplotlib import pyplot as plt\n",
    "import itertools\n",
    "import numpy as np\n",
    "\n",
    "# This code creates a network where nodes are \n",
    "def create_random_network(num_nodes,num_edges_per_node):\n",
    "    G = nx.Graph()\n",
    "    \n",
    "    #Add the nodes\n",
    "    for i in range(num_nodes):\n",
    "        G.add_node(i)\n",
    "    \n",
    "    for i in range(num_edges_per_node*num_nodes):\n",
    "        ### [YOUR CODE HERE] ###\n",
    "    \n",
    "    # Draw the network\n",
    "    nx.draw(G, with_labels=True, node_color='lightblue', node_size=20, font_size=5)\n",
    "    plt.title(f\"Random Network with {num_nodes} Nodes\")\n",
    "    plt.show()\n",
    "    return G"
   ]
  },
  {
   "cell_type": "code",
   "execution_count": 331,
   "id": "63e47fe7-839e-4cf9-b9db-1ebd2bf5849e",
   "metadata": {},
   "outputs": [],
   "source": [
    "# Feel free to vary the parameters\n",
    "G = create_random_network(1000,50)"
   ]
  },
  {
   "cell_type": "markdown",
   "id": "0730ddcc-a7be-4b58-a66e-58962d231e99",
   "metadata": {},
   "source": [
    "Let's plot the degree distribution of this network. To do so, we create a histogram of the frequency of each number of degrees. \n",
    "\n",
    "The degree distribution is a highly important measure, as it shows how equal the network is, and how dominated it is by a few nodes.\n",
    "\n"
   ]
  },
  {
   "cell_type": "code",
   "execution_count": 330,
   "id": "bb4ce437-d19f-461a-8fcc-af39ab46b9d5",
   "metadata": {},
   "outputs": [],
   "source": [
    "# Plot the degree distribution \n",
    "\n",
    "import networkx as nx\n",
    "import matplotlib.pyplot as plt\n",
    "\n",
    "def plot_degree_distribution(G):\n",
    "\n",
    "    # Calculate the degrees of each node    \n",
    "    # and create a histogram showing the distribution of degrees\n",
    "    # [YOUR CODE HERE]\n",
    "\n",
    "    # Set labels and title\n",
    "    plt.xlabel('Degree')\n",
    "    plt.ylabel('Frequency')\n",
    "    plt.title('Degree Distribution of the Network')\n",
    "    \n",
    "    # Show the plot\n",
    "    plt.show()\n",
    "    return degrees\n",
    "    \n",
    "degrees = plot_degree_distribution(G)"
   ]
  },
  {
   "cell_type": "markdown",
   "id": "65c5e263-ffd3-4a75-a59d-399b83575345",
   "metadata": {},
   "source": [
    "### Model 2: Friends make friends through friends\n",
    "\n",
    "The network we created, the nodes are connected randomly based on the nodes. But in most real-world networks, you make connections through your existing connections. For instance, the probability that you follow someone on Twitter depends on how many followers the person already has, since you are likely to encounter them through their followers.\n",
    "\n",
    "These degree distributions are ubiquitous, and characterize nearly all networks around us, including link between websites, flights connecting airports, and so on.\n",
    "\n",
    "In most social networks, nodes build connections based on their existing connections. This is called \"preferential attachment\".\n",
    "\n",
    "#### Your task:\n",
    "1. You will simulate the growth of a social media network. The network will have N nodes. These join one at the time. At each step, add one new node, then sample M existing nodes based on their edges, and add edges to these. Add 10 edges per node.\n",
    "2. Plot the resulting degree distribution. What type of distribution is this? What does it mean that networks have this type of structure?\n"
   ]
  },
  {
   "cell_type": "code",
   "execution_count": 166,
   "id": "10ad72e1-6b1d-48c1-b181-2ad9f4e6c3de",
   "metadata": {},
   "outputs": [],
   "source": [
    "def create_random_network_by_edges(num_nodes,num_edges_per_node):\n",
    "    #We start with a seed network\n",
    "    G = nx.Graph()\n",
    "    G.add_node(0)\n",
    "    G.add_node(1)\n",
    "    G.add_edge(0,1)\n",
    "    \n",
    "    #[YOUR CODE HERE]\n",
    "    #Add edges based on existing nodes\n",
    "    \n",
    "    # Draw the network\n",
    "    nx.draw(G, with_labels=True, node_color='lightblue', node_size=20, font_size=5)\n",
    "    plt.show()\n",
    "    return G\n",
    "\n",
    "G = create_random_network_by_edges(1000,10)\n",
    "degrees = plot_degree_distribution(G)\n"
   ]
  },
  {
   "cell_type": "markdown",
   "id": "d31f9e28-d126-4fb8-baa3-9cc7d200a3f3",
   "metadata": {},
   "source": [
    "# 3. Epidemics in networks "
   ]
  },
  {
   "cell_type": "markdown",
   "id": "c229bb08-c369-4537-b0dd-62a8a0c8d167",
   "metadata": {},
   "source": [
    "Networks also allow us to model dynamic phenomena, such as the spread of ideas, habits, or disease through networks. \n",
    "\n",
    "The structure of the network is central to how these spread. For instance, if Twitter changes how followingship is made, this will affect the dynamics of virality on Twitter.\n",
    "\n",
    "The same accounts to disease spread. The SIR model is a classic framework used in epidemiology to understand how diseases spread through populations. SIR stands for Susceptible, Infected, and Recovered, which are the three possible states of individuals in this model:\n",
    "\n",
    "- Susceptible (S): Individuals who have not yet contracted the disease and are vulnerable to infection.\n",
    "- Infected (I): Individuals who have contracted the disease and are capable of spreading it to susceptible individuals.\n",
    "- Recovered (R): Individuals who have recovered from the disease and are no longer susceptible to it. In some models, 'Recovered' can also include individuals who have died from the disease, as they are no longer part of the infection cycle.\n",
    "\n",
    "We are now going to look at how the spread of the disease depends on the network structure. "
   ]
  },
  {
   "cell_type": "code",
   "execution_count": 303,
   "id": "c99fffab-1dff-4651-9e56-ed8feffd735d",
   "metadata": {},
   "outputs": [],
   "source": [
    "import networkx as nx\n",
    "import matplotlib.pyplot as plt\n",
    "import random\n",
    "\n",
    "def SIR_simulation(G, initial_infected, infection_prob, recovery_prob):\n",
    "    # Initialize all nodes as susceptible\n",
    "    nx.set_node_attributes(G, 'S', 'state')\n",
    "\n",
    "    # Infect initial nodes\n",
    "    for node in initial_infected:\n",
    "        G.nodes[node]['state'] = 'I'\n",
    "\n",
    "    S, I, R = [], [], []\n",
    "    # for _ in range(steps):\n",
    "    while(True):\n",
    "        new_infected = []\n",
    "        new_recovered = []\n",
    "\n",
    "        # Spread the infection\n",
    "        for node in G:\n",
    "            if G.nodes[node]['state'] == 'I':\n",
    "                neighbors = list(G.neighbors(node))\n",
    "                for neighbor in neighbors:\n",
    "                    if G.nodes[neighbor]['state'] == 'S' and random.random() < infection_prob:\n",
    "                        new_infected.append(neighbor)\n",
    "\n",
    "                # Recover process\n",
    "                if random.random() < recovery_prob:\n",
    "                    new_recovered.append(node)\n",
    "\n",
    "        # Update the states\n",
    "        for node in new_infected:\n",
    "            G.nodes[node]['state'] = 'I'\n",
    "        for node in new_recovered:\n",
    "            G.nodes[node]['state'] = 'R'\n",
    "\n",
    "        S.append(sum(1 for n in G if G.nodes[n]['state'] == 'S'))\n",
    "        nr_infected = sum(1 for n in G if G.nodes[n]['state'] == 'I')\n",
    "        I.append(nr_infected)\n",
    "        R.append(sum(1 for n in G if G.nodes[n]['state'] == 'R'))\n",
    "        if nr_infected == 0:\n",
    "            break\n",
    "\n",
    "    return S, I, R\n",
    "\n",
    "def plot_network(G):\n",
    "    # Colors for nodes\n",
    "    colors = ['blue' if G.nodes[node]['state'] == 'S' else ('red' if G.nodes[node]['state'] == 'I' else 'green') for node in G]\n",
    "\n",
    "    plt.figure(figsize=(8, 6))\n",
    "    nx.draw(G, node_color=colors, node_size=50, with_labels=False)\n",
    "    plt.show()\n",
    "\n",
    "# Parameters for the SIR simulation\n",
    "initial_infected_count = 5\n",
    "infection_prob = 0.02\n",
    "recovery_prob = 0.1\n",
    "\n",
    "# Create different network types\n",
    "G = nx.watts_strogatz_graph(1000, 10, 0.1)    \n",
    "\n",
    "# Example run!\n",
    "initial_infected = random.sample(list(G.nodes()), initial_infected_count)\n",
    "S, I, R = SIR_simulation(G, initial_infected, infection_prob, recovery_prob)\n",
    "plot_network(G)\n"
   ]
  },
  {
   "cell_type": "markdown",
   "id": "7890f7f2-3c9d-453a-8e89-7f9fc7812133",
   "metadata": {},
   "source": [
    "## Your task"
   ]
  },
  {
   "cell_type": "markdown",
   "id": "ff987928-7d42-43ab-b75f-3b32c4118a0b",
   "metadata": {},
   "source": [
    "Read the code above and make sure you can explain it. \n",
    "\n",
    "Your task is to compare how well a disease spreads in different network structures. In which network does the disease spread fastest? In which networks does the disease spread to the most nodes?"
   ]
  },
  {
   "cell_type": "code",
   "execution_count": null,
   "id": "4fc6a4b3-6f7b-4e3a-a8a6-de558d3a8561",
   "metadata": {},
   "outputs": [],
   "source": [
    "# Networks to compare\n",
    "\n",
    "\"Scale-Free Network\": nx.barabasi_albert_graph(1000, 2),\n",
    "\"Small-World Network\": nx.watts_strogatz_graph(1000, 4, 0.1),\n",
    "\"Random Network\": nx.erdos_renyi_graph(1000, 0.05),\n",
    "\"Network with Communities\": nx.connected_caveman_graph(10, 100)\n"
   ]
  },
  {
   "cell_type": "markdown",
   "id": "0c85ba5d-9ce5-4ee9-81a6-d4eb557c6c92",
   "metadata": {},
   "source": [
    "# 4. Cascading failures in electricity grids"
   ]
  },
  {
   "cell_type": "markdown",
   "id": "9328d159-8ee3-45c0-952b-5f260dbb2551",
   "metadata": {},
   "source": [
    "Cascading failures in electricity grids refer to a process where a failure in one part of the grid triggers a chain of failures throughout the system, leading to a large-scale power outage or blackout. The cascade often begins with a single failure or fault in one component of the grid, such as a transmission line, transformer, or generator. When a component fails, the electrical load it was carrying is redistributed to other parts of the grid. If this redistribution results in an excessive load on these components, they can also fail. Each subsequent failure puts additional strain on the system, causing more components to fail. This can create a domino effect, leading to widespread disconnections and outages.\n",
    "\n",
    "You are working for the US government, and you are worried about possible attacks against the electricity grid. You want to find out how vulnerable the network is against attacks, so that you can address the vulnerability. To do so, you've build a simulation.\n"
   ]
  },
  {
   "cell_type": "code",
   "execution_count": 281,
   "id": "1767baf9-7915-4a9b-818c-7a9bdfb4752a",
   "metadata": {},
   "outputs": [
    {
     "name": "stdout",
     "output_type": "stream",
     "text": [
      "The cascade brought down 2 nodes.\n"
     ]
    }
   ],
   "source": [
    "# Load network\n",
    "def initialize_grid():\n",
    "    G = nx.read_gexf('us_powergrid.gexf')\n",
    "    return G\n",
    "\n",
    "# Reset the grid to unfailed status\n",
    "def reset_grid(G):\n",
    "    for node in G.nodes:\n",
    "        G.nodes[node]['current_load'] = G.nodes[node]['load']\n",
    "        G.nodes[node]['current_capacity'] = G.nodes[node]['capacity']\n",
    "        G.nodes[node]['failed'] = False\n",
    "\n",
    "# Fail a particular node\n",
    "def fail_node(G, neighbors_dict, node):\n",
    "    # Fail a node and redistribute its load\n",
    "    load_to_redistribute = G.nodes[node]['current_load']\n",
    "    G.nodes[node]['current_load'] = 0\n",
    "    G.nodes[node]['failed'] = True\n",
    "    neighbors = neighbors_dict[node]\n",
    "    load_distribution = load_to_redistribute / len(neighbors)\n",
    "    for neighbor in neighbors:\n",
    "        G.nodes[neighbor]['current_load'] += load_distribution\n",
    "\n",
    "# This code cascades the failure througout the network\n",
    "def cascade_failure(G, neighbors_dict):\n",
    "    failed = 0\n",
    "    overloaded = True\n",
    "    while overloaded:\n",
    "        overloaded = False\n",
    "        for node in list(G.nodes):\n",
    "            if not G.nodes[node]['failed'] and G.nodes[node]['current_load'] > G.nodes[node]['current_capacity']:\n",
    "                failed += 1\n",
    "                fail_node(G, neighbors_dict, node)\n",
    "                overloaded = True\n",
    "    return failed\n",
    "\n",
    "#Example run\n",
    "\n",
    "#Load graph \n",
    "G = initialize_grid()\n",
    "\n",
    "# Precompute neighbor lists for speed\n",
    "neighbors_dict = {node: list(G.neighbors(node)) for node in G.nodes}\n",
    "\n",
    "reset_grid(G)\n",
    "\n",
    "# Simulate initial failure\n",
    "initial_failure = random.choice(list(G.nodes))\n",
    "fail_node(G, neighbors_dict, initial_failure)\n",
    "\n",
    "# Simulate cascading failure\n",
    "failed_nodes = cascade_failure(G,neighbors_dict)\n",
    "print(f\"The cascade brought down {failed_nodes} nodes.\")\n"
   ]
  },
  {
   "cell_type": "markdown",
   "id": "e7b7c507-4c72-4ee6-a259-c98201304c78",
   "metadata": {},
   "source": [
    "### Your task\n",
    "Read the code above and make sure you understand it and can explain it. \n",
    "\n",
    "Your task is build on this code to examine: \n",
    "\n",
    "1. What is the distribution of collapses when the node is selected at random?\n",
    "\n",
    "2. Which node results in the largest cascade? How many nodes are brought down when this is attacked?"
   ]
  }
 ],
 "metadata": {
  "kernelspec": {
   "display_name": "Python 3 (ipykernel)",
   "language": "python",
   "name": "python3"
  },
  "language_info": {
   "codemirror_mode": {
    "name": "ipython",
    "version": 3
   },
   "file_extension": ".py",
   "mimetype": "text/x-python",
   "name": "python",
   "nbconvert_exporter": "python",
   "pygments_lexer": "ipython3",
   "version": "3.11.6"
  }
 },
 "nbformat": 4,
 "nbformat_minor": 5
}
