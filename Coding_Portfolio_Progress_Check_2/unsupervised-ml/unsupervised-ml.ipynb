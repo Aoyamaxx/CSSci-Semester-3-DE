{
 "cells": [
  {
   "cell_type": "markdown",
   "metadata": {},
   "source": [
    "Before you turn this problem in, make sure everything runs as expected. First, **restart the kernel** (in the menubar, select Kernel$\\rightarrow$Restart) and then **run all cells** (in the menubar, select Cell$\\rightarrow$Run All).\n",
    "\n",
    "Make sure you fill in any place that says `YOUR CODE HERE` or \"YOUR ANSWER HERE\", as well as your name below:"
   ]
  },
  {
   "cell_type": "code",
   "execution_count": null,
   "metadata": {},
   "outputs": [],
   "source": [
    "NAME = \"Quanpu Xiao\"\n",
    "STUDENT_ID = \"14368978\""
   ]
  },
  {
   "cell_type": "markdown",
   "metadata": {},
   "source": [
    "---"
   ]
  },
  {
   "cell_type": "markdown",
   "metadata": {},
   "source": [
    "## Overview\n",
    "Welcome to the clustering task. In previous courses, you've learned the application of several clustering methods. Now it's time to put them to use in a real-world task. One of the most classic application is the analysis of business data. By the means of clustering, we can analyze daily transactional data of some business to perform tasks like customer segmentation.\n",
    "\n",
    "In the following tasks, we will analyze a database provided by a real online retailer to help them to perform a basic customer segmentation.\n",
    "\n",
    "Online retailing refers to the sale of goods or the provision of services targeted to the needs of individuals or households via the Internet or other electronic channels. The attached document incluedes a database collected by one retailer for all its transactions registered for non-store online retailing in the UK between 12/12/2010 and 12/9/2011. The company primarily sells unique all-occasion gifts.\n",
    "\n",
    "You will try to use your what you had learned to help them analyze their customers. Many of the tasks you may have come across before, but today is the first time we can combine them together.\n",
    "\n",
    "## Goal\n",
    "We aim to separate the customers into several groups so that the company can target its customers efficiently. Ideally 3 or 4 groups.\n",
    "\n",
    "## The steps are broadly divided into:\n",
    "\n",
    "1. [Step 1: Reading and Understanding the Data](#1)\n",
    "2. [Step 2: Data Cleaning](#2)\n",
    "3. [Step 3: Feature Engineering](#3)\n",
    "   1. [Step 3.1: Feature Creation](#3)\n",
    "   2. [Step 3.2: Outlier detection](#3.2)\n",
    "   3. [Step 3.3: Standarization](#3.3)\n",
    "4. [Step 4: Model Building](#4)\n",
    "5. [Step 5: Final Analysis](#5)"
   ]
  },
  {
   "cell_type": "markdown",
   "metadata": {},
   "source": [
    "**This code is adopted from the code of MANISH KUMAR. The origin is https://www.kaggle.com/datasets/hellbuoy/online-retail-customer-clustering"
   ]
  },
  {
   "cell_type": "markdown",
   "metadata": {},
   "source": [
    "<a id=\"1\"></a> <br>\n",
    "## Step 1 : Reading and Understanding Data"
   ]
  },
  {
   "cell_type": "markdown",
   "metadata": {},
   "source": [
    "Import the packages and set the random seed to unify the result."
   ]
  },
  {
   "cell_type": "code",
   "execution_count": null,
   "metadata": {},
   "outputs": [],
   "source": [
    "# Import required libraries for dataframe and visualization\n",
    "# If you some packages are installed in your computer, you \n",
    "# can install them by using \"pip\"\n",
    "import numpy as np\n",
    "import pandas as pd\n",
    "import matplotlib.pyplot as plt\n",
    "import seaborn as sns\n",
    "import datetime as dt\n",
    "\n",
    "# import required libraries for clustering\n",
    "import sklearn\n",
    "from sklearn.preprocessing import StandardScaler\n",
    "from sklearn.cluster import KMeans\n",
    "from sklearn.cluster import AgglomerativeClustering\n",
    "from sklearn.metrics import silhouette_score\n",
    "\n",
    "np.random.seed(42)"
   ]
  },
  {
   "cell_type": "markdown",
   "metadata": {},
   "source": [
    "As the first step in the analysis, we need to load the data and do some inspections.\n",
    "\n",
    "You can use this code to load the database."
   ]
  },
  {
   "cell_type": "code",
   "execution_count": null,
   "metadata": {
    "deletable": false,
    "editable": false,
    "nbgrader": {
     "cell_type": "code",
     "checksum": "40225a6c7b4d1460b8bb691b346b89f5",
     "grade": false,
     "grade_id": "cell-19da093536dd17d8",
     "locked": true,
     "schema_version": 3,
     "solution": false,
     "task": false
    }
   },
   "outputs": [],
   "source": [
    "# Reading the data on which analysis needs to be done\n",
    "retail = pd.read_csv('OnlineRetail.csv', sep=\",\", encoding=\"ISO-8859-1\", header=0)"
   ]
  },
  {
   "cell_type": "markdown",
   "metadata": {},
   "source": [
    "### Task 1\n",
    "\n",
    "Print the basic information of the data and check whether there are problems inside.\n",
    "\n",
    "At least you should check them by using the dataframe.info function"
   ]
  },
  {
   "cell_type": "code",
   "execution_count": null,
   "metadata": {
    "deletable": false,
    "nbgrader": {
     "cell_type": "code",
     "checksum": "3ba467ac0ab4162a57e44c14f76df185",
     "grade": true,
     "grade_id": "cell-1c3567df9d4e3fd0",
     "locked": false,
     "points": 0,
     "schema_version": 3,
     "solution": true,
     "task": false
    }
   },
   "outputs": [],
   "source": [
    "# YOUR CODE HERE\n",
    "raise NotImplementedError()"
   ]
  },
  {
   "cell_type": "markdown",
   "metadata": {},
   "source": [
    "<a id=\"2\"></a> <br>\n",
    "## Step 2 : Data Cleaning"
   ]
  },
  {
   "cell_type": "markdown",
   "metadata": {},
   "source": [
    "### By observing the information of the data, at least three issues are found:\n",
    "1. Missing values exist in \"Description\" and \"CunstomerID\"\n",
    "2. \"CustomerID\" should be string type rather than integer\n",
    "3. “InvoiceData” need to be datetime type for further usage"
   ]
  },
  {
   "cell_type": "markdown",
   "metadata": {},
   "source": [
    "### Task 2\n",
    "1. delete all columns that have missing value\n",
    "2. Convert the \"CustomerID\" into string type\n",
    "3. Convert the \"InvoiceData\" into datetime type with the format '%d-%m-%Y %H:%M'"
   ]
  },
  {
   "cell_type": "code",
   "execution_count": null,
   "metadata": {
    "deletable": false,
    "nbgrader": {
     "cell_type": "code",
     "checksum": "df878d9dc81f10cdf716eaa06916e8b6",
     "grade": false,
     "grade_id": "cell-4d91318fee1c02b9",
     "locked": false,
     "schema_version": 3,
     "solution": true,
     "task": false
    }
   },
   "outputs": [],
   "source": [
    "# YOUR CODE HERE\n",
    "raise NotImplementedError()"
   ]
  },
  {
   "cell_type": "code",
   "execution_count": null,
   "metadata": {
    "deletable": false,
    "editable": false,
    "nbgrader": {
     "cell_type": "code",
     "checksum": "6694d8906045e06342829a7abed4c6fc",
     "grade": true,
     "grade_id": "cell-718bc638033d6135",
     "locked": true,
     "points": 0,
     "schema_version": 3,
     "solution": false,
     "task": false
    }
   },
   "outputs": [],
   "source": [
    "assert len(retail) == 406829"
   ]
  },
  {
   "cell_type": "code",
   "execution_count": null,
   "metadata": {
    "deletable": false,
    "editable": false,
    "nbgrader": {
     "cell_type": "code",
     "checksum": "b5a5fa0d5ab4a573600b1e7bbe244cac",
     "grade": true,
     "grade_id": "cell-910cae70b4099260",
     "locked": true,
     "points": 1,
     "schema_version": 3,
     "solution": false,
     "task": false
    }
   },
   "outputs": [],
   "source": []
  },
  {
   "cell_type": "markdown",
   "metadata": {},
   "source": [
    "<a id=\"3\"></a> <br>\n",
    "## Step 3 : Feature Engineering\n",
    "## 3.1 : Feature Creation"
   ]
  },
  {
   "cell_type": "markdown",
   "metadata": {},
   "source": [
    "### Next, we deal with the features. We adopt a simple and classic approach, i.e. we calculate the following 3 factors:\n",
    "- Recency: Number of days since last purchase\n",
    "- Frequency: Number of tracsactions\n",
    "- Monetary: Total amount of transactions (revenue contributed)"
   ]
  },
  {
   "cell_type": "markdown",
   "metadata": {},
   "source": [
    "You can run the following code to compute the attribute \"Recency\"."
   ]
  },
  {
   "cell_type": "code",
   "execution_count": null,
   "metadata": {
    "deletable": false,
    "editable": false,
    "nbgrader": {
     "cell_type": "code",
     "checksum": "d61b6700e470630481d238952fce9fcf",
     "grade": false,
     "grade_id": "cell-65f9e2df666eb5b2",
     "locked": true,
     "schema_version": 3,
     "solution": false,
     "task": false
    }
   },
   "outputs": [],
   "source": [
    "# New Attribute : Recency\n",
    "\n",
    "# Compute last transaction date to get the recency of customers\n",
    "max_date = max(retail['InvoiceDate'])\n",
    "retail['Recency'] = max_date - retail['InvoiceDate']\n",
    "\n",
    "# Compute recency by grouping the same Customers together\n",
    "rfm_p = retail.groupby('CustomerID')['Recency'].min()\n",
    "rfm_p = rfm_p.reset_index()\n",
    "\n",
    "# Extract number of days only\n",
    "rfm_p['Recency'] = rfm_p['Recency'].dt.days\n",
    "rfm_p.head()"
   ]
  },
  {
   "cell_type": "markdown",
   "metadata": {},
   "source": [
    "### Task 3\n",
    "Compute the other two attributes: \"Monetary\" and \"Frequency\".\n",
    "\n",
    "Quantity times the UnitPrice is the amount of one order and you can sum up all orders for the same CustomerID to get the Monetary, save this in a `df` called `rfm_m` in column 'Amount'.\n",
    "\n",
    "You can count how many InvoiceNo for one CustomerID to get the Frequency, save this in a `df` called `rfm_f` in column 'Frequency'. "
   ]
  },
  {
   "cell_type": "code",
   "execution_count": null,
   "metadata": {
    "deletable": false,
    "nbgrader": {
     "cell_type": "code",
     "checksum": "5ad8be083a66437b899b52cd367dc18c",
     "grade": false,
     "grade_id": "cell-2d06cf4324de9142",
     "locked": false,
     "schema_version": 3,
     "solution": true,
     "task": false
    }
   },
   "outputs": [],
   "source": [
    "rfm_m = ...\n",
    "# YOUR CODE HERE\n",
    "raise NotImplementedError()\n",
    "\n",
    "rfm_f = ...\n",
    "# YOUR CODE HERE\n",
    "raise NotImplementedError()"
   ]
  },
  {
   "cell_type": "code",
   "execution_count": null,
   "metadata": {
    "deletable": false,
    "editable": false,
    "nbgrader": {
     "cell_type": "code",
     "checksum": "fcc4638cfb5e490f736cd7ec8e09f6d5",
     "grade": true,
     "grade_id": "cell-8d595a0afba991df",
     "locked": true,
     "points": 1,
     "schema_version": 3,
     "solution": false,
     "task": false
    }
   },
   "outputs": [],
   "source": [
    "# Check if columns exist in rfm_m and rfm_f\n",
    "assert 'CustomerID' in rfm_m.columns, \"Expected column name: CustomerID\"\n",
    "assert 'Amount' in rfm_m.columns, \"Expected column name: Amount\"\n",
    "assert 'CustomerID' in rfm_f.columns, \"Expected column name: CustomerID\"\n",
    "assert 'Frequency' in rfm_f.columns, \"Expected column name: Frequency\"\n"
   ]
  },
  {
   "cell_type": "code",
   "execution_count": null,
   "metadata": {
    "deletable": false,
    "editable": false,
    "nbgrader": {
     "cell_type": "code",
     "checksum": "8a05ed4b8e94d027e07eab5e53d36dec",
     "grade": true,
     "grade_id": "cell-670897b7bd70e502",
     "locked": true,
     "points": 1,
     "schema_version": 3,
     "solution": false,
     "task": false
    }
   },
   "outputs": [],
   "source": []
  },
  {
   "cell_type": "markdown",
   "metadata": {},
   "source": [
    "### Task 4\n",
    "Merge all three attributes to form a `dataframe` called \"rfm\"."
   ]
  },
  {
   "cell_type": "code",
   "execution_count": null,
   "metadata": {
    "deletable": false,
    "nbgrader": {
     "cell_type": "code",
     "checksum": "0df58e06138a5ef2628135bfa2e6f1c7",
     "grade": false,
     "grade_id": "cell-c60033431924edbb",
     "locked": false,
     "schema_version": 3,
     "solution": true,
     "task": false
    }
   },
   "outputs": [],
   "source": [
    "rfm = ...\n",
    "# YOUR CODE HERE\n",
    "raise NotImplementedError()"
   ]
  },
  {
   "cell_type": "code",
   "execution_count": null,
   "metadata": {
    "deletable": false,
    "editable": false,
    "nbgrader": {
     "cell_type": "code",
     "checksum": "f247f51119f5e48dcc8610f8717be166",
     "grade": true,
     "grade_id": "cell-d0d38a60f7428fc8",
     "locked": true,
     "points": 0,
     "schema_version": 3,
     "solution": false,
     "task": false
    }
   },
   "outputs": [],
   "source": []
  },
  {
   "cell_type": "markdown",
   "metadata": {},
   "source": [
    "<a id=\"3.2\"></a> <br>\n",
    "## 3.2 : Outlier detection"
   ]
  },
  {
   "cell_type": "markdown",
   "metadata": {},
   "source": [
    "### Task 5\n",
    "Plot the distribution of all three attributes in \"rfm\"."
   ]
  },
  {
   "cell_type": "code",
   "execution_count": null,
   "metadata": {
    "deletable": false,
    "nbgrader": {
     "cell_type": "code",
     "checksum": "fc0f8ef6e0f3ad5973f8ba5920b79a60",
     "grade": true,
     "grade_id": "cell-fb0cb20905bf50f8",
     "locked": false,
     "points": 1,
     "schema_version": 3,
     "solution": true,
     "task": false
    }
   },
   "outputs": [],
   "source": [
    "# YOUR CODE HERE\n",
    "raise NotImplementedError()"
   ]
  },
  {
   "cell_type": "markdown",
   "metadata": {},
   "source": [
    "Observing them after plotting, do you think the distributions are indicating some problems?"
   ]
  },
  {
   "cell_type": "markdown",
   "metadata": {},
   "source": [
    "# Answer cell\n",
    "#### The distribution above is abnormal because most of the data lies in a very narrow band. The exact reason can actually be traced to outliers. \n",
    "#### In our distribution, the outliers occupy a extremely high value that makes the plot too wide and the data too narrow."
   ]
  },
  {
   "cell_type": "markdown",
   "metadata": {},
   "source": [
    "### Task 6\n",
    "In this circumstance, we need to remove the extreme value before modeling. Please use the function `dataframe.quantile()` to detect the 0.99 percent point and use it as a threshold to delete all points higher than this value for all three attributes.\n",
    "Save the rest of the data in `rfm`\n",
    "\n",
    "After that, you can plot the distribution again. This time you should be able to see the shape of the distribution."
   ]
  },
  {
   "cell_type": "code",
   "execution_count": null,
   "metadata": {
    "deletable": false,
    "nbgrader": {
     "cell_type": "code",
     "checksum": "13d928a26bbeea3161e336472994ae72",
     "grade": false,
     "grade_id": "cell-0c045e889ed7d141",
     "locked": false,
     "schema_version": 3,
     "solution": true,
     "task": false
    }
   },
   "outputs": [],
   "source": [
    "# YOUR CODE HERE\n",
    "raise NotImplementedError()"
   ]
  },
  {
   "cell_type": "code",
   "execution_count": null,
   "metadata": {
    "deletable": false,
    "editable": false,
    "nbgrader": {
     "cell_type": "code",
     "checksum": "0d91ff484723a7e2d046d6f65daf7833",
     "grade": true,
     "grade_id": "cell-ec5d4ab5e2947416",
     "locked": true,
     "points": 1,
     "schema_version": 3,
     "solution": false,
     "task": false
    }
   },
   "outputs": [],
   "source": [
    "assert len(rfm) == 4244"
   ]
  },
  {
   "cell_type": "code",
   "execution_count": null,
   "metadata": {
    "deletable": false,
    "nbgrader": {
     "cell_type": "code",
     "checksum": "efbe0f5a9b059bd1d6f0e96297929e70",
     "grade": true,
     "grade_id": "cell-4662e79a5fc8f896",
     "locked": false,
     "points": 1,
     "schema_version": 3,
     "solution": true,
     "task": false
    }
   },
   "outputs": [],
   "source": [
    "# YOUR CODE HERE\n",
    "raise NotImplementedError()"
   ]
  },
  {
   "cell_type": "markdown",
   "metadata": {},
   "source": [
    "<a id=\"3.3\"></a> <br>\n",
    "### Step 3.3 : Standarization\n",
    "\n",
    "It is extremely important to rescale the variables so that they have a comparable scale."
   ]
  },
  {
   "cell_type": "markdown",
   "metadata": {},
   "source": [
    "### Task 7\n",
    "Please use a `Standardisation Scaling` to transform all three attributes and stored the data in a new `dataframe` called \"rfm_df_scaled\".\n",
    "Be sure to run the cell below so your `dataframe` has the correct columns on the correct place."
   ]
  },
  {
   "cell_type": "code",
   "execution_count": null,
   "metadata": {
    "deletable": false,
    "nbgrader": {
     "cell_type": "code",
     "checksum": "c769bea166b9eef25805f0df177f7dd0",
     "grade": false,
     "grade_id": "cell-4f8e28cb10747e4a",
     "locked": false,
     "schema_version": 3,
     "solution": true,
     "task": false
    }
   },
   "outputs": [],
   "source": [
    "# YOUR CODE HERE\n",
    "raise NotImplementedError()\n"
   ]
  },
  {
   "cell_type": "code",
   "execution_count": null,
   "metadata": {
    "deletable": false,
    "editable": false,
    "nbgrader": {
     "cell_type": "code",
     "checksum": "fbd407fcb9cef6d0c4a4e31320c21d52",
     "grade": false,
     "grade_id": "cell-a00f3bda677047da",
     "locked": true,
     "schema_version": 3,
     "solution": false,
     "task": false
    }
   },
   "outputs": [],
   "source": [
    "# Run this cell\n",
    "rfm_df_scaled = pd.DataFrame(rfm_df_scaled)\n",
    "rfm_df_scaled.columns = ['Amount', 'Frequency', 'Recency']\n",
    "rfm_df_scaled.head()"
   ]
  },
  {
   "cell_type": "code",
   "execution_count": null,
   "metadata": {
    "deletable": false,
    "editable": false,
    "nbgrader": {
     "cell_type": "code",
     "checksum": "d632d91f0b0be16c1a835efa10d1548b",
     "grade": true,
     "grade_id": "cell-a2ae16421dd2e734",
     "locked": true,
     "points": 1,
     "schema_version": 3,
     "solution": false,
     "task": false
    }
   },
   "outputs": [],
   "source": []
  },
  {
   "cell_type": "markdown",
   "metadata": {},
   "source": [
    "<a id=\"4\"></a> <br>\n",
    "## Step 4 : Building the Model\n",
    "Now it is time to cluster the customers into groups. We use k-mean and hierachical clustering to achieve this task. \n",
    "We will be calculating the silhoute score for various settings and saving this in a dictionary."
   ]
  },
  {
   "cell_type": "markdown",
   "metadata": {},
   "source": [
    "### Task 8\n",
    "Perform kmean clustering on the data with the number of clusters set to be 3.\n",
    "\n",
    "And compute the Silhouette Scores."
   ]
  },
  {
   "cell_type": "code",
   "execution_count": null,
   "metadata": {
    "deletable": false,
    "editable": false,
    "nbgrader": {
     "cell_type": "code",
     "checksum": "9e8ac520b88644d152902ffdcc4a6da8",
     "grade": false,
     "grade_id": "cell-5e700c6e95042068",
     "locked": true,
     "schema_version": 3,
     "solution": false,
     "task": false
    }
   },
   "outputs": [],
   "source": [
    "# Initialize an empty dictionary\n",
    "silhouette_scores = {}"
   ]
  },
  {
   "cell_type": "code",
   "execution_count": null,
   "metadata": {
    "deletable": false,
    "nbgrader": {
     "cell_type": "code",
     "checksum": "e6841446ac942d70989c286d60c49851",
     "grade": false,
     "grade_id": "cell-c467f94eca8b9f92",
     "locked": false,
     "schema_version": 3,
     "solution": true,
     "task": false
    }
   },
   "outputs": [],
   "source": [
    "silhouette_scores['Kmean3'] = 0\n",
    "\n",
    "# YOUR CODE HERE\n",
    "raise NotImplementedError()\n"
   ]
  },
  {
   "cell_type": "markdown",
   "metadata": {},
   "source": [
    "### Task 9\n",
    "Perform hierachical clustering on the data, the algorithm can be chosen as agglomerative clustering, number of clusters is 3, linkage is \"ward\".\n",
    "\n",
    "Compute the Silhouette Scores."
   ]
  },
  {
   "cell_type": "code",
   "execution_count": null,
   "metadata": {
    "deletable": false,
    "nbgrader": {
     "cell_type": "code",
     "checksum": "2999774a3a5267372c092af9dcda44e4",
     "grade": false,
     "grade_id": "cell-9b3230595635c348",
     "locked": false,
     "schema_version": 3,
     "solution": true,
     "task": false
    }
   },
   "outputs": [],
   "source": [
    "silhouette_scores['Ward3'] = 0\n",
    "\n",
    "# YOUR CODE HERE\n",
    "raise NotImplementedError()"
   ]
  },
  {
   "cell_type": "markdown",
   "metadata": {},
   "source": [
    "### Task 10\n",
    "Change the number of cluster to be 4 for both kmean and hierachical clustering.\n",
    "\n",
    "Compute the Silhouette scores for both cases.\n",
    "\n",
    "After that, the variable \"silhouette_scores\" should have four values."
   ]
  },
  {
   "cell_type": "code",
   "execution_count": null,
   "metadata": {
    "deletable": false,
    "nbgrader": {
     "cell_type": "code",
     "checksum": "9dd79694a85026d20062c44c2337c03c",
     "grade": false,
     "grade_id": "cell-a46b3f3a3d1124c0",
     "locked": false,
     "schema_version": 3,
     "solution": true,
     "task": false
    }
   },
   "outputs": [],
   "source": [
    "silhouette_scores['Kmean4'] = 0\n",
    "\n",
    "# YOUR CODE HERE\n",
    "raise NotImplementedError()"
   ]
  },
  {
   "cell_type": "code",
   "execution_count": null,
   "metadata": {
    "deletable": false,
    "nbgrader": {
     "cell_type": "code",
     "checksum": "f76ace95baea532150af0c83cbbe32a2",
     "grade": false,
     "grade_id": "cell-c7ed17fe0375266b",
     "locked": false,
     "schema_version": 3,
     "solution": true,
     "task": false
    }
   },
   "outputs": [],
   "source": [
    "silhouette_scores['Ward4'] = 0\n",
    "\n",
    "# YOUR CODE HERE\n",
    "raise NotImplementedError()"
   ]
  },
  {
   "cell_type": "code",
   "execution_count": null,
   "metadata": {
    "deletable": false,
    "editable": false,
    "nbgrader": {
     "cell_type": "code",
     "checksum": "15e0986dfd8d609e58d22fc45bfc4aec",
     "grade": false,
     "grade_id": "cell-d1712d2697818bbe",
     "locked": true,
     "schema_version": 3,
     "solution": false,
     "task": false
    }
   },
   "outputs": [],
   "source": [
    "print(silhouette_scores)"
   ]
  },
  {
   "cell_type": "code",
   "execution_count": null,
   "metadata": {
    "deletable": false,
    "editable": false,
    "nbgrader": {
     "cell_type": "code",
     "checksum": "1edde560a594f4ca5487420dde7c87b1",
     "grade": true,
     "grade_id": "cell-dd1dcbcd65bab924",
     "locked": true,
     "points": 4,
     "schema_version": 3,
     "solution": false,
     "task": false
    }
   },
   "outputs": [],
   "source": []
  },
  {
   "cell_type": "markdown",
   "metadata": {},
   "source": [
    "### Additional Task\n",
    "You can use the scatter plot (Amount vs. Frequency) to show the differences between these two methods.\n",
    "\n",
    "By observing the plot we know that the kmean shows clearer boundaries. \n",
    "\n",
    "According to their mechanism, do you know why?"
   ]
  },
  {
   "cell_type": "code",
   "execution_count": null,
   "metadata": {
    "deletable": false,
    "nbgrader": {
     "cell_type": "code",
     "checksum": "fff56f037072542200f4a8a7dd248d20",
     "grade": true,
     "grade_id": "cell-b1297dd9fe27a592",
     "locked": false,
     "points": 1,
     "schema_version": 3,
     "solution": true,
     "task": false
    }
   },
   "outputs": [],
   "source": [
    "# YOUR CODE HERE\n",
    "raise NotImplementedError()"
   ]
  },
  {
   "cell_type": "code",
   "execution_count": null,
   "metadata": {
    "deletable": false,
    "nbgrader": {
     "cell_type": "code",
     "checksum": "3e0828ffbfa7bc154f1260e6547ed369",
     "grade": true,
     "grade_id": "cell-566a0bcfa589aa41",
     "locked": false,
     "points": 1,
     "schema_version": 3,
     "solution": true,
     "task": false
    }
   },
   "outputs": [],
   "source": [
    "# YOUR CODE HERE\n",
    "raise NotImplementedError()"
   ]
  },
  {
   "cell_type": "markdown",
   "metadata": {
    "deletable": false,
    "nbgrader": {
     "cell_type": "markdown",
     "checksum": "2ff371163a3e41e1d6e192b7ff391280",
     "grade": true,
     "grade_id": "cell-bc38c36fac1301e6",
     "locked": false,
     "points": 1,
     "schema_version": 3,
     "solution": true,
     "task": false
    }
   },
   "source": [
    "YOUR ANSWER HERE"
   ]
  },
  {
   "cell_type": "markdown",
   "metadata": {},
   "source": [
    "### Task 11\n",
    "Record the result of kmean with 3 clusters as a new column named \"ClusterLabel\" in \"rfm\"."
   ]
  },
  {
   "cell_type": "code",
   "execution_count": null,
   "metadata": {
    "deletable": false,
    "nbgrader": {
     "cell_type": "code",
     "checksum": "7e6474ded853aa17ca94f43ebd711511",
     "grade": false,
     "grade_id": "cell-baabf3d7e07496d7",
     "locked": false,
     "schema_version": 3,
     "solution": true,
     "task": false
    }
   },
   "outputs": [],
   "source": [
    "# YOUR CODE HERE\n",
    "raise NotImplementedError()\n"
   ]
  },
  {
   "cell_type": "code",
   "execution_count": null,
   "metadata": {
    "deletable": false,
    "editable": false,
    "nbgrader": {
     "cell_type": "code",
     "checksum": "7afc1ae32239b185684e6b98d4ade829",
     "grade": true,
     "grade_id": "cell-fd709abb20630d54",
     "locked": true,
     "points": 0,
     "schema_version": 3,
     "solution": false,
     "task": false
    }
   },
   "outputs": [],
   "source": [
    "assert 'ClusterLabel' in rfm.columns, \"Missing column\""
   ]
  },
  {
   "cell_type": "code",
   "execution_count": null,
   "metadata": {
    "deletable": false,
    "editable": false,
    "nbgrader": {
     "cell_type": "code",
     "checksum": "ab9459ee3dec823132b93eee06b35cec",
     "grade": true,
     "grade_id": "cell-635bf42343c28953",
     "locked": true,
     "points": 1,
     "schema_version": 3,
     "solution": false,
     "task": false
    }
   },
   "outputs": [],
   "source": []
  },
  {
   "cell_type": "markdown",
   "metadata": {},
   "source": [
    "<a id=\"5\"></a> <br>\n",
    "## Step 5 : Result Analysis"
   ]
  },
  {
   "cell_type": "markdown",
   "metadata": {},
   "source": [
    "### Task 12\n",
    "Plot scatter plots of both Amount vs. Recency and Amount vs. Frequency. Try to identify differences between clusters?"
   ]
  },
  {
   "cell_type": "code",
   "execution_count": null,
   "metadata": {
    "deletable": false,
    "nbgrader": {
     "cell_type": "code",
     "checksum": "3b81f1c2ef546bd1a0c11026be8b673b",
     "grade": true,
     "grade_id": "cell-966b1f3236de1a42",
     "locked": false,
     "points": 1,
     "schema_version": 3,
     "solution": true,
     "task": false
    }
   },
   "outputs": [],
   "source": [
    "# YOUR CODE HERE\n",
    "raise NotImplementedError()"
   ]
  },
  {
   "cell_type": "code",
   "execution_count": null,
   "metadata": {
    "deletable": false,
    "nbgrader": {
     "cell_type": "code",
     "checksum": "6f35d9ac3e2a7cb6c92e54f710a75d1e",
     "grade": true,
     "grade_id": "cell-4d0819800133c3bc",
     "locked": false,
     "points": 1,
     "schema_version": 3,
     "solution": true,
     "task": false
    }
   },
   "outputs": [],
   "source": [
    "# YOUR CODE HERE\n",
    "raise NotImplementedError()"
   ]
  },
  {
   "cell_type": "markdown",
   "metadata": {},
   "source": [
    "### Additional Task\n",
    "You can use the \"ClusterLabel\" as the x-axis to draw a box plot for each attribute, in this case you can see the differences clearly."
   ]
  },
  {
   "cell_type": "code",
   "execution_count": null,
   "metadata": {
    "deletable": false,
    "nbgrader": {
     "cell_type": "code",
     "checksum": "72306bd1c501af871bacf607b139c3dc",
     "grade": true,
     "grade_id": "cell-25cf11af9da55e14",
     "locked": false,
     "points": 1,
     "schema_version": 3,
     "solution": true,
     "task": false
    }
   },
   "outputs": [],
   "source": [
    "# YOUR CODE HERE\n",
    "raise NotImplementedError()"
   ]
  },
  {
   "cell_type": "code",
   "execution_count": null,
   "metadata": {
    "deletable": false,
    "nbgrader": {
     "cell_type": "code",
     "checksum": "d6917a55c7ac717f5f5b0e7b4bdff700",
     "grade": true,
     "grade_id": "cell-634d5cb90d961852",
     "locked": false,
     "points": 1,
     "schema_version": 3,
     "solution": true,
     "task": false
    }
   },
   "outputs": [],
   "source": [
    "# YOUR CODE HERE\n",
    "raise NotImplementedError()"
   ]
  },
  {
   "cell_type": "code",
   "execution_count": null,
   "metadata": {
    "deletable": false,
    "nbgrader": {
     "cell_type": "code",
     "checksum": "845e5a3a1aa8a25412517cb4443d6537",
     "grade": true,
     "grade_id": "cell-3a8b9eb9e68f1d14",
     "locked": false,
     "points": 1,
     "schema_version": 3,
     "solution": true,
     "task": false
    }
   },
   "outputs": [],
   "source": [
    "# YOUR CODE HERE\n",
    "raise NotImplementedError()"
   ]
  },
  {
   "cell_type": "markdown",
   "metadata": {},
   "source": [
    "#### According to the figures above, we can separate all customers into three type of groups:\n",
    "- Good buyers: They are loyal supporters of the company, either bought many times or bought large amounts.\n",
    "- Potential buyers: They have bought a certain amount of products and are quite active in recent days. They may become our loyal supporters in the future, even though the amount may not be large.\n",
    "- Lost Buyers: They haven't buy any products for a long time. In the beginning they tried to buy some small amount and after that they disappeared."
   ]
  },
  {
   "cell_type": "markdown",
   "metadata": {},
   "source": [
    "### Final Task:\n",
    "Determine which type of buyer matches which of the 3 clusters we obtained by eyeballing the plots."
   ]
  },
  {
   "cell_type": "code",
   "execution_count": null,
   "metadata": {
    "deletable": false,
    "nbgrader": {
     "cell_type": "code",
     "checksum": "67ad7253d1dacbeac9d79e959fa012b1",
     "grade": false,
     "grade_id": "cell-3e6b48026056bbcc",
     "locked": false,
     "schema_version": 3,
     "solution": true,
     "task": false
    }
   },
   "outputs": [],
   "source": [
    "# YOUR CODE HERE\n",
    "raise NotImplementedError()\n",
    "\n",
    "Good_buyer_cluster = ...\n",
    "Potential_buyer_cluster = ...\n",
    "Lost_buyer_cluster = ...\n"
   ]
  },
  {
   "cell_type": "code",
   "execution_count": null,
   "metadata": {
    "deletable": false,
    "editable": false,
    "nbgrader": {
     "cell_type": "code",
     "checksum": "122f82eff4918eab2a084a1eff066f43",
     "grade": true,
     "grade_id": "cell-89f6a1fbc30a496c",
     "locked": true,
     "points": 1,
     "schema_version": 3,
     "solution": false,
     "task": false
    }
   },
   "outputs": [],
   "source": []
  },
  {
   "cell_type": "markdown",
   "metadata": {},
   "source": [
    "#### Congratulations, the analysis is complete. \n",
    "#### After we present the results to the company, all departments of the company have developed meaningful strategies based on your analysis. And the analysis help them make dramatic improvement in their future sales."
   ]
  },
  {
   "cell_type": "markdown",
   "metadata": {},
   "source": [
    "End"
   ]
  }
 ],
 "metadata": {
  "kernelspec": {
   "display_name": "Python 3 (ipykernel)",
   "language": "python",
   "name": "python3"
  },
  "language_info": {
   "codemirror_mode": {
    "name": "ipython",
    "version": 3
   },
   "file_extension": ".py",
   "mimetype": "text/x-python",
   "name": "python",
   "nbconvert_exporter": "python",
   "pygments_lexer": "ipython3",
   "version": "3.8.18"
  }
 },
 "nbformat": 4,
 "nbformat_minor": 4
}
