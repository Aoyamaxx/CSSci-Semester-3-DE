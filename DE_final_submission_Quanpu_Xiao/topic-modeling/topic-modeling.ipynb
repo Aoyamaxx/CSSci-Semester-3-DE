{
 "cells": [
  {
   "cell_type": "markdown",
   "id": "5f02b405",
   "metadata": {},
   "source": [
    "Before you turn this problem in, make sure everything runs as expected. First, **restart the kernel** (in the menubar, select Kernel$\\rightarrow$Restart) and then **run all cells** (in the menubar, select Cell$\\rightarrow$Run All).\n",
    "\n",
    "Make sure you fill in any place that says `YOUR CODE HERE` or \"YOUR ANSWER HERE\", as well as your name below:"
   ]
  },
  {
   "cell_type": "code",
   "execution_count": 1,
   "id": "350ca3f2",
   "metadata": {},
   "outputs": [],
   "source": [
    "NAME = \"Quanpu Xiao\"\n",
    "STUDENT_ID = \"14368978\""
   ]
  },
  {
   "cell_type": "markdown",
   "id": "c292538f",
   "metadata": {},
   "source": [
    "---"
   ]
  },
  {
   "cell_type": "markdown",
   "id": "2338a427",
   "metadata": {},
   "source": [
    "*Objective*: Apply topic modelling techniques, such as Latent Dirichlet Allocation (LDA), to analyze and interpret the primary topics present in a collection of online news articles.\n",
    "\n",
    "Topic modelling is a type of statistical model for discovering the abstract \"topics\" that occur in a collection of documents. It is a frequently used text-mining tool for the discovery of hidden semantic structures in a text body. This assignment involves implementing and interpreting LDA topic modelling on a dataset of online news articles to understand the prevalent themes and topics.\n",
    "\n",
    "For this task, you will use the \"Fake news\" dataset, which contains information about a large number of fake news articles. The dataset is available here: https://www.kaggle.com/datasets/mrisdal/fake-news.\n",
    "\n",
    "1. Prepare: Explore the dataset\n",
    "2. Pre-process the text data\n",
    "3. Implement the LDA model\n",
    "4. Analyze the topics and interpret the results"
   ]
  },
  {
   "cell_type": "markdown",
   "id": "a925637f",
   "metadata": {},
   "source": [
    "### Setup and requirements\n",
    "First, make sure that you have the needed libraries for Python correctly installed."
   ]
  },
  {
   "cell_type": "code",
   "execution_count": 2,
   "id": "760b4b5a",
   "metadata": {
    "deletable": false,
    "editable": false,
    "nbgrader": {
     "cell_type": "code",
     "checksum": "7ede09c3d5cc5dd7a861761fe3969ce2",
     "grade": false,
     "grade_id": "cell-dd19779ac384bb27",
     "locked": true,
     "schema_version": 3,
     "solution": false,
     "task": false
    }
   },
   "outputs": [
    {
     "name": "stderr",
     "output_type": "stream",
     "text": [
      "[nltk_data] Downloading package stopwords to\n",
      "[nltk_data]     /Users/aoyamaxx/nltk_data...\n",
      "[nltk_data]   Unzipping corpora/stopwords.zip.\n",
      "[nltk_data] Downloading package wordnet to\n",
      "[nltk_data]     /Users/aoyamaxx/nltk_data...\n",
      "[nltk_data]   Package wordnet is already up-to-date!\n",
      "[nltk_data] Downloading package punkt to /Users/aoyamaxx/nltk_data...\n",
      "[nltk_data]   Package punkt is already up-to-date!\n",
      "[nltk_data] Downloading package omw-1.4 to\n",
      "[nltk_data]     /Users/aoyamaxx/nltk_data...\n",
      "[nltk_data]   Package omw-1.4 is already up-to-date!\n"
     ]
    },
    {
     "data": {
      "text/plain": [
       "True"
      ]
     },
     "execution_count": 2,
     "metadata": {},
     "output_type": "execute_result"
    }
   ],
   "source": [
    "#!pip install numpy pandas matplotlib sklearn gensim nltk\n",
    "\n",
    "import numpy as np\n",
    "import pandas as pd\n",
    "import matplotlib.pyplot as plt\n",
    "from sklearn.feature_extraction.text import CountVectorizer\n",
    "import gensim\n",
    "from gensim import corpora, models\n",
    "import nltk\n",
    "nltk.download('stopwords')\n",
    "nltk.download('wordnet')\n",
    "nltk.download('punkt')\n",
    "nltk.download('omw-1.4')"
   ]
  },
  {
   "cell_type": "markdown",
   "id": "0ec19996",
   "metadata": {},
   "source": [
    "## 1. Prepare and Explore the Dataset (1 point)\n",
    "\n",
    "The first step is to download and load the dataset. Familiarize yourself with its structure and content. Understand the kind of articles included, and how the data is organized.\n",
    "\n",
    "\n",
    "1. Load the dataset using pandas.\n",
    "2. Explore the dataset. What columns does it include? How are the articles represented?\n",
    "3. For exploration purposes and initial model training take 15-35% sample of dataframe using the sample method in pandas\n",
    "4. Store your dataset in the variable named `news_df`"
   ]
  },
  {
   "cell_type": "code",
   "execution_count": 3,
   "id": "fd5fba8d",
   "metadata": {
    "deletable": false,
    "nbgrader": {
     "cell_type": "code",
     "checksum": "c08ae297a579d812729903d4d5972bb7",
     "grade": false,
     "grade_id": "cell-98f59e03d8e80d78",
     "locked": false,
     "schema_version": 3,
     "solution": true,
     "task": false
    }
   },
   "outputs": [
    {
     "name": "stdout",
     "output_type": "stream",
     "text": [
      "Index(['uuid', 'ord_in_thread', 'author', 'published', 'title', 'text',\n",
      "       'language', 'crawled', 'site_url', 'country', 'domain_rank',\n",
      "       'thread_title', 'spam_score', 'main_img_url', 'replies_count',\n",
      "       'participants_count', 'likes', 'comments', 'shares', 'type'],\n",
      "      dtype='object')\n",
      "                                       uuid  ord_in_thread  \\\n",
      "0  6a175f46bcd24d39b3e962ad0f29936721db70db              0   \n",
      "1  2bdc29d12605ef9cf3f09f9875040a7113be5d5b              0   \n",
      "2  c70e149fdd53de5e61c29281100b9de0ed268bc3              0   \n",
      "3  7cf7c15731ac2a116dd7f629bd57ea468ed70284              0   \n",
      "4  0206b54719c7e241ffe0ad4315b808290dbe6c0f              0   \n",
      "\n",
      "                 author                      published  \\\n",
      "0     Barracuda Brigade  2016-10-26T21:41:00.000+03:00   \n",
      "1  reasoning with facts  2016-10-29T08:47:11.259+03:00   \n",
      "2     Barracuda Brigade  2016-10-31T01:41:49.479+02:00   \n",
      "3                Fed Up  2016-11-01T05:22:00.000+02:00   \n",
      "4                Fed Up  2016-11-01T21:56:00.000+02:00   \n",
      "\n",
      "                                               title  \\\n",
      "0  Muslims BUSTED: They Stole Millions In Gov’t B...   \n",
      "1  Re: Why Did Attorney General Loretta Lynch Ple...   \n",
      "2  BREAKING: Weiner Cooperating With FBI On Hilla...   \n",
      "3  PIN DROP SPEECH BY FATHER OF DAUGHTER Kidnappe...   \n",
      "4  FANTASTIC! TRUMP'S 7 POINT PLAN To Reform Heal...   \n",
      "\n",
      "                                                text language  \\\n",
      "0  Print They should pay all the back all the mon...  english   \n",
      "1  Why Did Attorney General Loretta Lynch Plead T...  english   \n",
      "2  Red State : \\nFox News Sunday reported this mo...  english   \n",
      "3  Email Kayla Mueller was a prisoner and torture...  english   \n",
      "4  Email HEALTHCARE REFORM TO MAKE AMERICA GREAT ...  english   \n",
      "\n",
      "                         crawled             site_url country  domain_rank  \\\n",
      "0  2016-10-27T01:49:27.168+03:00  100percentfedup.com      US      25689.0   \n",
      "1  2016-10-29T08:47:11.259+03:00  100percentfedup.com      US      25689.0   \n",
      "2  2016-10-31T01:41:49.479+02:00  100percentfedup.com      US      25689.0   \n",
      "3  2016-11-01T15:46:26.304+02:00  100percentfedup.com      US      25689.0   \n",
      "4  2016-11-01T23:59:42.266+02:00  100percentfedup.com      US      25689.0   \n",
      "\n",
      "                                        thread_title  spam_score  \\\n",
      "0  Muslims BUSTED: They Stole Millions In Gov’t B...       0.000   \n",
      "1  Re: Why Did Attorney General Loretta Lynch Ple...       0.000   \n",
      "2  BREAKING: Weiner Cooperating With FBI On Hilla...       0.000   \n",
      "3  PIN DROP SPEECH BY FATHER OF DAUGHTER Kidnappe...       0.068   \n",
      "4  FANTASTIC! TRUMP'S 7 POINT PLAN To Reform Heal...       0.865   \n",
      "\n",
      "                                        main_img_url  replies_count  \\\n",
      "0  http://bb4sp.com/wp-content/uploads/2016/10/Fu...              0   \n",
      "1  http://bb4sp.com/wp-content/uploads/2016/10/Fu...              0   \n",
      "2  http://bb4sp.com/wp-content/uploads/2016/10/Fu...              0   \n",
      "3  http://100percentfedup.com/wp-content/uploads/...              0   \n",
      "4  http://100percentfedup.com/wp-content/uploads/...              0   \n",
      "\n",
      "   participants_count  likes  comments  shares  type  \n",
      "0                   1      0         0       0  bias  \n",
      "1                   1      0         0       0  bias  \n",
      "2                   1      0         0       0  bias  \n",
      "3                   0      0         0       0  bias  \n",
      "4                   0      0         0       0  bias  \n",
      "3250\n"
     ]
    }
   ],
   "source": [
    "import pandas as pd\n",
    "\n",
    "news_df = ...\n",
    "\n",
    "\n",
    "# YOUR CODE HERE\n",
    "news_df = pd.read_csv('fake.csv')\n",
    "\n",
    "print(news_df.columns)\n",
    "print(news_df.head())\n",
    "\n",
    "news_df = news_df.sample(frac=0.25)\n",
    "\n",
    "print(len(news_df))"
   ]
  },
  {
   "cell_type": "code",
   "execution_count": 4,
   "id": "669b7c40",
   "metadata": {
    "deletable": false,
    "editable": false,
    "nbgrader": {
     "cell_type": "code",
     "checksum": "66e5ae238c748c57795da1f5433edb7d",
     "grade": true,
     "grade_id": "cell-b34716260ad1c575",
     "locked": true,
     "points": 0,
     "schema_version": 3,
     "solution": false,
     "task": false
    }
   },
   "outputs": [],
   "source": [
    "assert 1949 <= len(news_df) <= 4550, \"You should sample between 15-35% of the dataset.\""
   ]
  },
  {
   "cell_type": "markdown",
   "id": "a2d06419",
   "metadata": {},
   "source": [
    "### Question 1: Dataset Exploration (1 point)\n",
    "\n",
    "\n",
    "What are the key characteristics of this dataset? Describe the dataset in terms of its size, variety of articles, and any other notable features."
   ]
  },
  {
   "cell_type": "code",
   "execution_count": 5,
   "id": "706024b1",
   "metadata": {
    "deletable": false,
    "nbgrader": {
     "cell_type": "code",
     "checksum": "d9575b390b4cc35d1a33a152c7056b8b",
     "grade": true,
     "grade_id": "cell-a06327cbfa6e1933",
     "locked": false,
     "points": 1,
     "schema_version": 3,
     "solution": true,
     "task": false
    }
   },
   "outputs": [
    {
     "data": {
      "text/plain": [
       "{'Number of Articles': 3250,\n",
       " 'Number of Columns': 20,\n",
       " 'Column Names': Index(['uuid', 'ord_in_thread', 'author', 'published', 'title', 'text',\n",
       "        'language', 'crawled', 'site_url', 'country', 'domain_rank',\n",
       "        'thread_title', 'spam_score', 'main_img_url', 'replies_count',\n",
       "        'participants_count', 'likes', 'comments', 'shares', 'type'],\n",
       "       dtype='object'),\n",
       " 'Sample Articles': 9645    Hillary Clinton is just fine . \\nShe’s not sic...\n",
       " 7016    * Blue: SGR (dashed lines indicate the possibi...\n",
       " 8310    Trump's presidency and the future of US-Russia...\n",
       " 3390    October 27, 2016 -  By Eduard Popov for Fort R...\n",
       " 6262    by Jerri-Lynn Scofield \\nJerri-Lynn here: This...\n",
       " Name: text, dtype: object,\n",
       " 'Missing Values per Column': uuid                     0\n",
       " ord_in_thread            0\n",
       " author                 578\n",
       " published                0\n",
       " title                  155\n",
       " text                     9\n",
       " language                 0\n",
       " crawled                  0\n",
       " site_url                 0\n",
       " country                 33\n",
       " domain_rank           1070\n",
       " thread_title             3\n",
       " spam_score               0\n",
       " main_img_url           885\n",
       " replies_count            0\n",
       " participants_count       0\n",
       " likes                    0\n",
       " comments                 0\n",
       " shares                   0\n",
       " type                     0\n",
       " dtype: int64}"
      ]
     },
     "execution_count": 5,
     "metadata": {},
     "output_type": "execute_result"
    }
   ],
   "source": [
    "# YOUR CODE HERE\n",
    "num_articles = len(news_df)\n",
    "num_columns = len(news_df.columns)\n",
    "\n",
    "column_names = news_df.columns\n",
    "\n",
    "sample_articles = news_df['text'].sample(5)\n",
    "\n",
    "missing_values = news_df.isnull().sum()\n",
    "\n",
    "results = {\n",
    "    \"Number of Articles\": num_articles,\n",
    "    \"Number of Columns\": num_columns,\n",
    "    \"Column Names\": column_names,\n",
    "    \"Sample Articles\": sample_articles,\n",
    "    \"Missing Values per Column\": missing_values\n",
    "}\n",
    "\n",
    "results"
   ]
  },
  {
   "cell_type": "markdown",
   "id": "55315fc0",
   "metadata": {},
   "source": [
    "## 2. Pre-process the Text Data\n",
    "\n",
    "Before applying topic modelling, it's crucial to pre-process the text data. This involves cleaning the text, removing stop words, and converting the text into a suitable format for analysis.\n",
    "\n",
    "1. Complete the `preprocess_text()` function to clean the text data (remove punctuation, lowercase, tokenize, lemmatize).\n",
    "2. Remove stopwords using the NLTK library.\n",
    "3. Create a corpus required for the LDA model using the gensim package and save it in variable `corpus`.\n",
    "3. Convert the cleaned text into a document-term matrix using the gensim package and save it in variable `doc_term_matrix`."
   ]
  },
  {
   "cell_type": "code",
   "execution_count": 6,
   "id": "5790c923",
   "metadata": {
    "deletable": false,
    "nbgrader": {
     "cell_type": "code",
     "checksum": "553359e51d2d24c62caad51bd362dd2d",
     "grade": false,
     "grade_id": "cell-452f92f52df1cee7",
     "locked": false,
     "schema_version": 3,
     "solution": true,
     "task": false
    }
   },
   "outputs": [],
   "source": [
    "import nltk\n",
    "from nltk.corpus import stopwords\n",
    "from nltk.tokenize import word_tokenize\n",
    "import string\n",
    "\n",
    "\n",
    "from nltk.stem import WordNetLemmatizer\n",
    "from gensim import corpora\n",
    "from gensim.models.ldamodel import LdaModel\n",
    "\n",
    "\n",
    "\n",
    "lemmatizer = WordNetLemmatizer()\n",
    "\n",
    "def preprocess_text(text):\n",
    "    # YOUR CODE HERE\n",
    "    # Lowercase\n",
    "    text = text.lower()\n",
    "    # Remove punctuation\n",
    "    text = text.translate(str.maketrans('', '', string.punctuation))\n",
    "    # Tokenization\n",
    "    tokens = word_tokenize(text)\n",
    "    # Lemmatization\n",
    "    tokens = [lemmatizer.lemmatize(word) for word in tokens]\n",
    "    return tokens\n",
    "\n",
    "\n",
    "corpus = ...\n",
    "doc_term_matrix = ...\n",
    "\n",
    "# YOUR CODE HERE\n",
    "processed_texts = [preprocess_text(text) for text in news_df['text'].dropna()]\n",
    "\n",
    "# Remove stopwords\n",
    "stop_words = set(stopwords.words('english'))\n",
    "processed_texts = [[word for word in text if word not in stop_words] for text in processed_texts]\n",
    "\n",
    "# Gensim Dictionary from the processed texts\n",
    "dictionary = corpora.Dictionary(processed_texts)\n",
    "\n",
    "# Corpus\n",
    "corpus = [dictionary.doc2bow(text) for text in processed_texts]\n",
    "\n",
    "# Document-Term Matrix\n",
    "doc_term_matrix = [[(dictionary[id], freq) for id, freq in corp] for corp in corpus]"
   ]
  },
  {
   "cell_type": "markdown",
   "id": "6ae420a3",
   "metadata": {},
   "source": [
    "Public test (1 point)"
   ]
  },
  {
   "cell_type": "code",
   "execution_count": 7,
   "id": "5bec4579",
   "metadata": {
    "deletable": false,
    "editable": false,
    "nbgrader": {
     "cell_type": "code",
     "checksum": "61584de91cadb7e4ec018fe1b030d6fd",
     "grade": true,
     "grade_id": "cell-7a6a25d384681e03",
     "locked": true,
     "points": 1,
     "schema_version": 3,
     "solution": false,
     "task": false
    }
   },
   "outputs": [],
   "source": [
    "assert type(doc_term_matrix) == list, \"doc_term_matrix should be a list of lists\"\n",
    "assert type(corpus) == list, '''(gensim.corpora.dictionary.Dictionary)''' \"corpus should be a gensim.corpora.dictionary.Dictionary\""
   ]
  },
  {
   "cell_type": "markdown",
   "id": "966b85f0",
   "metadata": {},
   "source": [
    "Hidden tests (2 points)"
   ]
  },
  {
   "cell_type": "code",
   "execution_count": null,
   "id": "73f65cf6",
   "metadata": {
    "deletable": false,
    "editable": false,
    "nbgrader": {
     "cell_type": "code",
     "checksum": "073ac1768af564b2deb85b71fc6c0983",
     "grade": true,
     "grade_id": "cell-becc487e03b5adcd",
     "locked": true,
     "points": 2,
     "schema_version": 3,
     "solution": false,
     "task": false
    }
   },
   "outputs": [],
   "source": []
  },
  {
   "cell_type": "markdown",
   "id": "5094568c",
   "metadata": {},
   "source": [
    "### Question 2: Pre-processing Importance (2 points)\n",
    "\n",
    "Why is pre-processing important in topic modelling? Describe how each step in the pre-processing pipeline contributes to the overall analysis."
   ]
  },
  {
   "cell_type": "markdown",
   "id": "83394648",
   "metadata": {
    "deletable": false,
    "nbgrader": {
     "cell_type": "markdown",
     "checksum": "5a763c1df97ef58ae88b83a606ae2aed",
     "grade": true,
     "grade_id": "cell-f075d1d9356f0fca",
     "locked": false,
     "points": 2,
     "schema_version": 3,
     "solution": true,
     "task": false
    }
   },
   "source": [
    "Pre-processing will significantly influences the quality and interpretability of the results of topic modeling algorithms, since they work by identifying patterns of word usage across the dataset.\n",
    "\n",
    "1. Text cleaning as first step will remove punctuation and lowercasing all characters, to standardize the text and refuce noise of text data.\n",
    "2. Tokenization will break the text into indivisual tokens, which then can be process by the algorithms.\n",
    "3. Lemmatization can convert words to their base from, so different forms of a same word are recognized as the same term.\n",
    "4. Removing stop words can eliminate commonly used words that with less value to the context of the text.\n",
    "5. Document-term matrix will present documents in a structured form that algorithms can then process."
   ]
  },
  {
   "cell_type": "markdown",
   "id": "1eb7647e",
   "metadata": {},
   "source": [
    "## 3. Implement the LDA Model (1 point)\n",
    "\n",
    "Now, it's time to implement the LDA model using the Gensim library. Be sure to check out the documentation for hyperparameter settings.\n",
    "\n",
    "1. Choose the number of topics for the model. This is a crucial step and may require some experimentation.\n",
    "2. Train the LDA model on the dataset.\n",
    "3. Save the model for future use."
   ]
  },
  {
   "cell_type": "code",
   "execution_count": 8,
   "id": "27446851",
   "metadata": {
    "deletable": false,
    "nbgrader": {
     "cell_type": "code",
     "checksum": "42d5c65fabe90db6029d1e7cffeecd42",
     "grade": false,
     "grade_id": "cell-5dcaf729b499fc30",
     "locked": false,
     "schema_version": 3,
     "solution": true,
     "task": false
    }
   },
   "outputs": [],
   "source": [
    "lda_model = ...\n",
    "# YOUR CODE HERE\n",
    "num_topics = 10\n",
    "\n",
    "# LDA model\n",
    "lda_model = gensim.models.ldamodel.LdaModel(corpus=corpus,\n",
    "                                            id2word=dictionary,\n",
    "                                            num_topics=num_topics,\n",
    "                                            random_state=100,\n",
    "                                            update_every=1,\n",
    "                                            chunksize=100,\n",
    "                                            passes=10,\n",
    "                                            alpha='auto',\n",
    "                                            per_word_topics=True)\n",
    "\n",
    "lda_model.save('lda_model.gensim')\n"
   ]
  },
  {
   "cell_type": "code",
   "execution_count": 9,
   "id": "da73eb16",
   "metadata": {
    "deletable": false,
    "editable": false,
    "nbgrader": {
     "cell_type": "code",
     "checksum": "f3be4204c1ea48dfdf3a19157a08669a",
     "grade": true,
     "grade_id": "cell-d6e66bfedef344aa",
     "locked": true,
     "points": 1,
     "schema_version": 3,
     "solution": false,
     "task": false
    }
   },
   "outputs": [],
   "source": [
    "assert type(lda_model) == gensim.models.ldamodel.LdaModel, \"lda_model should be a gensim.models.ldamodel.LdaModel\"\n",
    "lda_model.save('lda_model.model')"
   ]
  },
  {
   "cell_type": "markdown",
   "id": "0122d3e6",
   "metadata": {},
   "source": [
    "### Question 3: Model Parameters (2 points)\n",
    "\n",
    "Discuss the choice of number of topics for the LDA model. How does this choice impact the model's performance and the interpretability of the results?"
   ]
  },
  {
   "cell_type": "markdown",
   "id": "cca03053",
   "metadata": {
    "deletable": false,
    "nbgrader": {
     "cell_type": "markdown",
     "checksum": "25e479cecd029ff3c4976c7de22369f8",
     "grade": true,
     "grade_id": "cell-7ac44640f28f4dc1",
     "locked": false,
     "points": 2,
     "schema_version": 3,
     "solution": true,
     "task": false
    }
   },
   "source": [
    "I started with 10 topics then tried 100 topics. Less topic will significantly reduce model traning time, resulting a better performance in terms of time. With that being said, too few topics will generate over broad topics and too many topics will massively increase traning time as well as too narrowly focused topics that may overlap with each other. In conlcusion, a proper amount of topic is crucial for LDA model and it should be obtained throught experiments and our subjective judgment based on the results."
   ]
  },
  {
   "cell_type": "markdown",
   "id": "23e01ea5",
   "metadata": {},
   "source": [
    "## 4. Analyze Topics and Interpret Results (1 point)\n",
    "\n",
    "Finally, analyze the topics produced by the LDA model and interpret the results.\n",
    "\n",
    "1. Use the LDA model to identify the main topics in the dataset.\n",
    "2. For each topic, examine the most representative words.\n",
    "4. Interpret the topics: What themes or subjects do they represent?\n",
    "\n",
    "### Question 4: Topic Interpretation\n",
    "\n",
    "Interpret the topics generated by the LDA model. How coherent are the topics? What do they tell us about the content of the dataset? Does this model need improvement by modifying parameters, using further pre-processing?"
   ]
  },
  {
   "cell_type": "code",
   "execution_count": 10,
   "id": "ee3983b1",
   "metadata": {
    "deletable": false,
    "nbgrader": {
     "cell_type": "code",
     "checksum": "6221f043a19d983619a2037ac8ab415f",
     "grade": true,
     "grade_id": "cell-b2dff7e06fc82bd6",
     "locked": false,
     "points": 0,
     "schema_version": 3,
     "solution": true,
     "task": false
    }
   },
   "outputs": [
    {
     "name": "stdout",
     "output_type": "stream",
     "text": [
      "Topic 0: water, human, source, space, may, energy, found, time, new, also\n",
      "Topic 1: u, war, russia, military, russian, ha, syria, “, ”, state\n",
      "Topic 2: food, vaccine, health, study, disease, cancer, medical, milk, product, drug\n",
      "Topic 3: der, dan, die, und, da, den, brics, von, mit, zu\n",
      "Topic 4: text, result, gold, comment, name, block, israel, need, jerusalem, quoting\n",
      "Topic 5: trump, ’, clinton, “, ”, hillary, election, wa, email, ha\n",
      "Topic 6: de, la, le, в, el, en, que, и, los, un\n",
      "Topic 7: method, hidden, longterm, lifestyle, depopulation, banister, 325, bannock, ptsd, ernetti\n",
      "Topic 8: ’, “, ”, wa, people, ha, one, u, like, would\n",
      "Topic 9: 27102016, edit, diary, assertive, fatima, jubilee, 100th, profusion, aspired, counterargument\n"
     ]
    }
   ],
   "source": [
    "# YOUR CODE HERE\n",
    "num_words = 10\n",
    "\n",
    "# Extracting topics with their most representative words\n",
    "topics = lda_model.show_topics(num_topics=num_topics, num_words=num_words, formatted=False)\n",
    "\n",
    "for topic_no, topic_words in topics:\n",
    "    words = ', '.join([word for word, prob in topic_words])\n",
    "    print(f\"Topic {topic_no}: {words}\")"
   ]
  },
  {
   "cell_type": "markdown",
   "id": "14ce4c80",
   "metadata": {
    "deletable": false,
    "nbgrader": {
     "cell_type": "markdown",
     "checksum": "bf2f620e1116755891b494ba7d0af986",
     "grade": true,
     "grade_id": "cell-f5a6c428bb4b0f8e",
     "locked": false,
     "points": 1,
     "schema_version": 3,
     "solution": true,
     "task": false
    }
   },
   "source": [
    "Based on the topics generated by the LDA model, some topics show a high level of coherence such as topic 9 showing focus on health and medicine, also topic 8 clearly showing content related to Hillary Clinton. For improvement, further preprocessing is needed since we are getting topics like 2, 5 that are purely made of stopwords from other languages. Removing stopwords from other languages could help to avoid this."
   ]
  },
  {
   "cell_type": "markdown",
   "id": "9ff7f77f",
   "metadata": {},
   "source": [
    "## Question 5: Improving Preprocessing for Topic Modeling (1 point)\n",
    "\n",
    "### Objective:\n",
    "Enhance your understanding and skills in preprocessing text data for topic modeling. You will focus on two key areas: \n",
    "1. Subsetting posts by language (focusing on English).\n",
    "2. Enriching the list of stopwords specific to your dataset for more effective topic modeling by adding custom stopwords. Analyze the results to identify irrelevant or overly common words that could be added to your stopwords list.\n",
    "3. **Re-run Topic Modeling**: Apply the enriched stopwords list and re-run the topic modeling process."
   ]
  },
  {
   "cell_type": "code",
   "execution_count": 11,
   "id": "0f98ce57",
   "metadata": {
    "deletable": false,
    "nbgrader": {
     "cell_type": "code",
     "checksum": "3f5d5247d657b77caa306959d724d0d4",
     "grade": true,
     "grade_id": "cell-20f891863be76484",
     "locked": false,
     "points": 1,
     "schema_version": 3,
     "solution": true,
     "task": false
    }
   },
   "outputs": [
    {
     "name": "stdout",
     "output_type": "stream",
     "text": [
      "Topic 0: get, know, woman, thing, make, go, think, going, life, want\n",
      "Topic 1: email, fbi, investigation, case, comey, department, law, bill, —, information\n",
      "Topic 2: power, political, war, medium, right, ‘, policy, united, system, many\n",
      "Topic 3: 2016, donald, vote, president, party, republican, campaign, news, white, —\n",
      "Topic 4: money, bank, million, china, company, market, tax, percent, financial, economy\n",
      "Topic 5: assange, admits, abramovic, herb, ufo, outer, grass, palmieri, waited, wildfire\n",
      "Topic 6: method, veritas, project, creamer, uranium, supremacist, dnc, longterm, brazile, acknowledged\n",
      "Topic 7: text, result, comment, quoting, block, need, name, automatically, use, appears\n",
      "Topic 8: russia, war, russian, syria, military, force, police, syrian, attack, saudi\n",
      "Topic 9: food, study, health, vaccine, disease, cancer, water, body, milk, medical\n"
     ]
    }
   ],
   "source": [
    "# subset dataset by english articles\n",
    "# news_df = ...\n",
    "\n",
    "# YOUR CODE HERE\n",
    "from langdetect import detect, LangDetectException\n",
    "\n",
    "def detect_language(text):\n",
    "    if isinstance(text, str) and text.strip():\n",
    "        try:\n",
    "            return detect(text)\n",
    "        except LangDetectException:\n",
    "            return None\n",
    "    else:\n",
    "        return None\n",
    "\n",
    "news_df['language'] = news_df['text'].apply(lambda x: detect_language(x) if x is not None else None)\n",
    "news_df = news_df[news_df['language'] == 'en']\n",
    "\n",
    "custom_stopwords = set([])\n",
    "\n",
    "# YOUR CODE HERE\n",
    "from collections import Counter\n",
    "\n",
    "word_freq = Counter(word for text in processed_texts for word in text)\n",
    "\n",
    "# Top 25 common words\n",
    "potential_stopwords = [word for word, freq in word_freq.most_common(25)]\n",
    "\n",
    "custom_stopwords = potential_stopwords\n",
    "\n",
    "# Combine with existing stopwords\n",
    "stop_words = set(stopwords.words('english')).union(custom_stopwords)\n",
    "\n",
    "\n",
    "def preprocess_text(text):\n",
    "    # YOUR CODE HERE\n",
    "    # Lowercase\n",
    "    text = text.lower()\n",
    "    # Remove punctuation\n",
    "    text = text.translate(str.maketrans('', '', string.punctuation))\n",
    "    # Tokenization\n",
    "    tokens = word_tokenize(text)\n",
    "    # Lemmatization\n",
    "    lemmatizer = WordNetLemmatizer()\n",
    "    tokens = [lemmatizer.lemmatize(word) for word in tokens]\n",
    "    return tokens\n",
    "\n",
    "processed_texts = [preprocess_text(text) for text in news_df['text'].dropna()]\n",
    "\n",
    "# Remove stopwords\n",
    "stop_words = stop_words\n",
    "processed_texts = [[word for word in text if word not in stop_words] for text in processed_texts]\n",
    "\n",
    "# Gensim Dictionary from the processed texts\n",
    "dictionary = corpora.Dictionary(processed_texts)\n",
    "\n",
    "# Corpus\n",
    "corpus = [dictionary.doc2bow(text) for text in processed_texts]\n",
    "\n",
    "# Document-Term Matrix\n",
    "doc_term_matrix = [[(dictionary[id], freq) for id, freq in corp] for corp in corpus]\n",
    "\n",
    "\n",
    "# YOUR CODE HERE\n",
    "num_topics = 10\n",
    "\n",
    "# LDA model\n",
    "lda_model = gensim.models.ldamodel.LdaModel(corpus=corpus,\n",
    "                                            id2word=dictionary,\n",
    "                                            num_topics=num_topics,\n",
    "                                            random_state=100,\n",
    "                                            update_every=1,\n",
    "                                            chunksize=100,\n",
    "                                            passes=10,\n",
    "                                            alpha='auto',\n",
    "                                            per_word_topics=True)\n",
    "\n",
    "lda_model.save('lda_model.gensim')\n",
    "\n",
    "topics = lda_model.show_topics(num_topics=num_topics, num_words=num_words, formatted=False)\n",
    "\n",
    "for topic_no, topic_words in topics:\n",
    "    words = ', '.join([word for word, prob in topic_words])\n",
    "    print(f\"Topic {topic_no}: {words}\")\n"
   ]
  },
  {
   "cell_type": "markdown",
   "id": "0b778b45",
   "metadata": {},
   "source": [
    "Does this additional preprocessing improve the topic model output? Why?"
   ]
  },
  {
   "cell_type": "markdown",
   "id": "4eded2c1-0596-4228-b17d-e5cadc38b6d8",
   "metadata": {
    "deletable": false,
    "nbgrader": {
     "cell_type": "markdown",
     "checksum": "9650f3385095a74237c5ca125f6d4af0",
     "grade": true,
     "grade_id": "cell-a31aca76ea2afbe0",
     "locked": false,
     "points": 0,
     "schema_version": 3,
     "solution": true,
     "task": false
    }
   },
   "source": [
    "This additional preprocessing significantly improved the topic generated by LDA model, since now we are only dealing with english text and having a richer stopwords list to avoid generating topics based on stopwords as before."
   ]
  },
  {
   "cell_type": "markdown",
   "id": "8dfc00be",
   "metadata": {},
   "source": [
    "## Question 6. Assessing LDA Model Coherence (2 points)\n",
    "\n",
    "### Objective\n",
    "\n",
    "In this exercise, you will assess the coherence of an LDA topic model using Gensim's coherence measures. Coherence measures help in evaluating how well the topics generated by the model are interpretable and semantically meaningful.\n",
    "\n",
    "### Task\n",
    "\n",
    "1. **Implement an LDA Model**: Using the \"Fake news\" dataset, implement an LDA model as done in the previous exercises.\n",
    "2. **Compute Coherence Score**: Calculate the coherence score of your model using Gensim's CoherenceModel (https://radimrehurek.com/gensim/models/coherencemodel.html).\n",
    "3. **Experiment with Different Number of Topics**: Experiment with different numbers of topics (e.g., 5, 10, 15 or 10, 50, 100 or whatever range you deem likely for the given data) and assess how the coherence score changes. Write a function that computes a coherence score for each model and plot the coherence scores associated with each topic number value (1 point).\n",
    "4. **Interpret Results**: Based on the coherence scores, determine the optimal number of topics for the model (1 point).\n",
    "\n",
    "### Assessment Criteria\n",
    "\n",
    "- Quality of LDA model implementation.\n",
    "- Correct calculation and interpretation of coherence scores.\n",
    "- Thoughtful experimentation with different numbers of topics and analysis of the impact on coherence.\n",
    "\n",
    "---"
   ]
  },
  {
   "cell_type": "code",
   "execution_count": 12,
   "id": "521724f0",
   "metadata": {
    "deletable": false,
    "nbgrader": {
     "cell_type": "code",
     "checksum": "fe4387f4926e8561eef9746a11c5ab03",
     "grade": true,
     "grade_id": "cell-29b1683e1a1c0550",
     "locked": false,
     "points": 1,
     "schema_version": 3,
     "solution": true,
     "task": false
    }
   },
   "outputs": [
    {
     "data": {
      "image/png": "[encoded data removed]",
      "text/plain": [
       "<Figure size 640x480 with 1 Axes>"
      ]
     },
     "metadata": {},
     "output_type": "display_data"
    }
   ],
   "source": [
    "from gensim.models.coherencemodel import CoherenceModel\n",
    "\n",
    "# Function to compute coherence score\n",
    "def compute_coherence(dictionary, corpus, texts, limit, start=2, step=3):\n",
    "    # YOUR CODE HERE\n",
    "    coherence_values = []\n",
    "    model_list = []\n",
    "    for num_topics in range(start, limit, step):\n",
    "        model = LdaModel(corpus=corpus, id2word=dictionary, num_topics=num_topics)\n",
    "        model_list.append(model)\n",
    "        coherencemodel = CoherenceModel(model=model, texts=texts, dictionary=dictionary, coherence='c_v')\n",
    "        coherence_values.append(coherencemodel.get_coherence())\n",
    "\n",
    "    return model_list, coherence_values\n",
    "\n",
    "# Applying the function to our dataset\n",
    "model_list, coherence_values = compute_coherence(dictionary=dictionary, corpus=corpus, texts=processed_texts, start=2, limit=40, step=2)\n",
    "\n",
    "# Plotting coherence scores\n",
    "# YOUR CODE HERE\n",
    "topic_values = range(1, 20, 1)\n",
    "\n",
    "plt.plot(topic_values, coherence_values)\n",
    "plt.xlabel(\"Number of Topics\")\n",
    "plt.ylabel(\"Coherence Score\")\n",
    "plt.title(\"Coherence Scores for Different Numbers of Topics\")\n",
    "plt.show()"
   ]
  },
  {
   "cell_type": "markdown",
   "id": "ae93d418-8821-4917-869d-0ed54bb8586a",
   "metadata": {},
   "source": [
    "What is the optimal number of topics for your model?"
   ]
  },
  {
   "cell_type": "code",
   "execution_count": 13,
   "id": "9b109b45-93ed-4379-9407-137c358929e6",
   "metadata": {
    "deletable": false,
    "nbgrader": {
     "cell_type": "code",
     "checksum": "a09e4fc2626ba2cebedfd573b8a4bb29",
     "grade": true,
     "grade_id": "cell-9237751dd218cf6e",
     "locked": false,
     "points": 1,
     "schema_version": 3,
     "solution": true,
     "task": false
    }
   },
   "outputs": [
    {
     "name": "stdout",
     "output_type": "stream",
     "text": [
      "The optimal number of topics is: 18\n"
     ]
    }
   ],
   "source": [
    "# YOUR CODE HERE\n",
    "optimal_num_topics = topic_values[coherence_values.index(max(coherence_values))]\n",
    "print(f\"The optimal number of topics is: {optimal_num_topics}\")"
   ]
  },
  {
   "cell_type": "markdown",
   "id": "43c14865",
   "metadata": {},
   "source": [
    "## Question 7: Fitting the Final LDA Model on the Entire Dataset (4 points)\n",
    "\n",
    "### Objective:\n",
    "Having identified the optimal number of topics using the coherence model in Gensim, your task now is to apply this knowledge to fit the final LDA (Latent Dirichlet Allocation) model on the entire dataset.\n",
    "\n",
    "### Instructions:\n",
    "\n",
    "1. **Optimal Number of Topics**:\n",
    "   - Recall the optimal number of topics you determined using the coherence model on a sample of your dataset.\n",
    "   \n",
    "2. **Preprocess the Full Dataset**:\n",
    "   - Ensure that the entire dataset is properly preprocessed (tokenization, removing stopwords, etc.).\n",
    "   - Create a dictionary and a bag-of-words corpus using the full dataset.\n",
    "\n",
    "3. **Fit the LDA Model**:\n",
    "   - Instantiate and train the LDA model on the entire dataset using the optimal number of topics you previously determined.\n",
    "   - Use the same model parameters that were most effective during your experimentation with the sample.\n",
    "\n",
    "4. **Model Evaluation**:\n",
    "   - Briefly evaluate the model by examining the coherence score on the full dataset.\n",
    "   - Display the top words for each topic and provide a brief interpretation.\n",
    "\n",
    "5. **Reflection**:\n",
    "   - Reflect on any differences observed in topic quality and coherence when the model is applied to the entire dataset versus the sample."
   ]
  },
  {
   "cell_type": "code",
   "execution_count": 14,
   "id": "0673e197",
   "metadata": {
    "deletable": false,
    "nbgrader": {
     "cell_type": "code",
     "checksum": "f60e39836c029ea56c19fdaedb2c2d32",
     "grade": true,
     "grade_id": "cell-93e0c36b6e485390",
     "locked": false,
     "points": 4,
     "schema_version": 3,
     "solution": true,
     "task": false
    }
   },
   "outputs": [
    {
     "name": "stdout",
     "output_type": "stream",
     "text": [
      "Coherence Score: 0.5349744666281294\n",
      "Topic 0: know, get, going, think, thing, go, make, want, woman, see\n",
      "Topic 1: money, bank, company, market, tax, million, financial, business, dollar, bill\n",
      "Topic 2: power, system, country, elite, war, economic, global, control, much, way\n",
      "Topic 3: vote, voter, poll, voting, percent, democrat, florida, republican, county, ballot\n",
      "Topic 4: russia, war, russian, syria, military, force, syrian, attack, iraq, terrorist\n",
      "Topic 5: saudi, israel, jew, arabia, jewish, palestinian, israeli, resolution, assange, jerusalem\n",
      "Topic 6: email, fbi, investigation, comey, department, director, wikileaks, case, campaign, evidence\n",
      "Topic 7: bishop, attending, prevents, remedy, allergy, scroll, onset, slipping, toddler, iphone\n",
      "Topic 8: pipeline, police, camp, dakota, water, protester, land, rock, standing, protector\n",
      "Topic 9: comply, licensing, att, retailer, consumer, merger, intuition, competitor, reposted, franchise\n",
      "Topic 10: vibration, dylan, waking, blindly, fukushima, wakingtimescom, attribution, mindless, studio, bio\n",
      "Topic 11: admiral, militant, mediterranean, mook, carrier, pause, ta, pravdaru, nick, cheryl\n",
      "Topic 12: donald, —, medium, 2016, party, right, campaign, president, white, ‘\n",
      "Topic 13: obama, president, house, white, administration, soros, secretary, congress, bush, george\n",
      "Topic 14: child, food, found, school, study, health, many, human, use, body\n",
      "Topic 15: joyless, crate, thinlipped, loft, laserprinted, missal, francesca, vascular, doesohhemad, abdulazeez\n",
      "Topic 16: text, result, comment, quoting, need, block, name, check, automatically, use\n",
      "Topic 17: police, video, news, officer, facebook, church, twitter, space, network, medium\n"
     ]
    }
   ],
   "source": [
    "# YOUR CODE HERE\n",
    "processed_texts = [preprocess_text(text) for text in news_df['text']]\n",
    "\n",
    "processed_texts = [[word for word in text if word not in stop_words] for text in processed_texts]\n",
    "\n",
    "dictionary = corpora.Dictionary(processed_texts)\n",
    "\n",
    "# Corpus\n",
    "corpus = [dictionary.doc2bow(text) for text in processed_texts]\n",
    "\n",
    "lda_model = LdaModel(corpus=corpus, id2word=dictionary, num_topics=optimal_num_topics, random_state=100, update_every=1, chunksize=100, passes=10, alpha='auto', per_word_topics=True)\n",
    "\n",
    "coherence_model_lda = CoherenceModel(model=lda_model, texts=processed_texts, dictionary=dictionary, coherence='c_v')\n",
    "coherence_lda = coherence_model_lda.get_coherence()\n",
    "print(f'Coherence Score: {coherence_lda}')\n",
    "\n",
    "num_words = 10\n",
    "topics = lda_model.show_topics(num_topics=optimal_num_topics, num_words=num_words, formatted=False)\n",
    "for topic_no, topic_words in topics:\n",
    "    words = ', '.join([word for word, prob in topic_words])\n",
    "    print(f\"Topic {topic_no}: {words}\")\n",
    "\n",
    "# Reflection\n",
    "# The topic quality in general seems to be solid, better than with only sample data, and come with a higher coherence score. However, a website link is observered in topic 8 means better preprocessing could be done to remove the link."
   ]
  }
 ],
 "metadata": {
  "kernelspec": {
   "display_name": "Python 3 (ipykernel)",
   "language": "python",
   "name": "python3"
  },
  "language_info": {
   "codemirror_mode": {
    "name": "ipython",
    "version": 3
   },
   "file_extension": ".py",
   "mimetype": "text/x-python",
   "name": "python",
   "nbconvert_exporter": "python",
   "pygments_lexer": "ipython3",
   "version": "3.10.9"
  }
 },
 "nbformat": 4,
 "nbformat_minor": 5
}
